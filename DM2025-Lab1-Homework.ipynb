{
 "cells": [
  {
   "cell_type": "markdown",
   "metadata": {},
   "source": [
    "### Student Information\n",
    "Name: 林貝芸 Lin,Pei-Yun\n",
    "\n",
    "Student ID: 113086852\n",
    "\n",
    "GitHub ID: u105500014-wq"
   ]
  },
  {
   "cell_type": "markdown",
   "metadata": {},
   "source": [
    "---"
   ]
  },
  {
   "cell_type": "markdown",
   "metadata": {},
   "source": [
    "### Instructions"
   ]
  },
  {
   "cell_type": "markdown",
   "metadata": {},
   "source": [
    "### First Phase Submission"
   ]
  },
  {
   "cell_type": "markdown",
   "metadata": {},
   "source": [
    "1. First: do the **take home** exercises in the [DM2025-Lab1-Master](https://github.com/leoson-wu/DM2025-Lab1-Exercise/blob/main/DM2025-Lab1-Master.ipynb) that considered as **phase 1 (from exercise 1 to exercise 15)**. You can answer in the master file. __This part is worth 10% of your grade.__\n",
    "\n",
    "\n",
    "2. Second: follow the same process from the [DM2025-Lab1-Master](https://github.com/leoson-wu/DM2025-Lab1-Exercise/blob/main/DM2025-Lab1-Master.ipynb) on **the new dataset** up **until phase 1**. You can skip some exercises if you think some steps are not necessary. However main exercises should be completed. You don't need to explain all details as we did (some **minimal comments** explaining your code are useful though).  __This part is worth 15% of your grade.__\n",
    "    -  Use [the new dataset](https://github.com/leoson-wu/DM2025-Lab1-Exercise/blob/main/newdataset/Reddit-stock-sentiment.csv). The dataset contains a 16 columns including 'text' and 'label', with the sentiment labels being: 1.0 is positive, 0.0 is neutral and -1.0 is negative. You can simplify the dataset and use only the columns that you think are necessary. \n",
    "    \n",
    "    - You are allowed to use and modify the `helper` functions in the folder of the first lab session (notice they may need modification) or create your own.\n",
    "    - Use this file to complete the homework from the second part. Make sure the code can be run from the beginning till the end and has all the needed output.\n",
    "\n",
    "\n",
    "3. Third: please attempt the following tasks on **the new dataset**. __This part is worth 10% of your grade.__\n",
    "    - Generate meaningful **new data visualizations**. Refer to online resources and the Data Mining textbook for inspiration and ideas. \n",
    "    \n",
    "\n",
    "\n",
    "4. Fourth: It's hard for us to follow if your code is messy, so please **tidy up your notebook** and **add minimal comments where needed**. __This part is worth 5% of your grade.__\n",
    "\n",
    "You can submit your homework following these guidelines: [DM2025-Lab1-announcement](https://github.com/leoson-wu/DM2025-Lab1-Announcement/blob/main/README.md). Make sure to commit and save your changes to your repository __BEFORE the deadline (September 28th 11:59 pm, Sunday)__. "
   ]
  },
  {
   "cell_type": "markdown",
   "metadata": {},
   "source": [
    "### Second Phase Submission "
   ]
  },
  {
   "cell_type": "markdown",
   "metadata": {},
   "source": [
    "**You can keep the answer for phase 1 for easier running and update the phase 2 on the same page.**\n",
    "\n",
    "1. First: Continue doing the **take home** exercises in the [DM2025-Lab1-Master](https://github.com/leoson-wu/DM2025-Lab1-Exercise/blob/main/DM2025-Lab1-Master.ipynb) for **phase 2, starting from Finding frequent patterns**. Use the same master(.ipynb) file. Answer from phase 1 will not be considered at this stage. You can answer in the master file. __This part is worth 10% of your grade.__\n",
    "\n",
    "\n",
    "2. Second: Continue from first phase and do the same process from the [DM2025-Lab1-Master](https://github.com/leoson-wu/DM2025-Lab1-Exercise/blob/main/DM2025-Lab1-Master.ipynb) on **the new dataset** for phase 2, starting from Finding frequent pattern. You can skip some exercises if you think some steps are not necessary. However main exercises should be completed. You don't need to explain all details as we did (some **minimal comments** explaining your code are useful though).  __This part is worth 15% of your grade.__\n",
    "    - Continue using this file to complete the homework from the second part. Make sure the code can be run from the beginning till the end and has all the needed output. Use the same new dataset as in phase 1.\n",
    "    \n",
    "    - You are allowed to use and modify the `helper` functions in the folder of the first lab session (notice they may need modification) or create your own.\n",
    "\n",
    "3. Third: please attempt the following tasks on **the new dataset**. __This part is worth 20% of your grade.__\n",
    "    - Use this file to answer.\n",
    "    - Generate **TF-IDF features** from the tokens of each text. This will generating a document matrix, however, the weights will be computed differently (using the TF-IDF value of each word per document as opposed to the word frequency).  Refer to this Scikit-learn [guide](http://scikit-learn.org/stable/modules/generated/sklearn.feature_extraction.text.TfidfVectorizer.html) .\n",
    "    - Implement a simple **Naive Bayes classifier** that automatically classifies the records into their categories. Use both the TF-IDF features and word frequency features to build two seperate classifiers. Note that for the TF-IDF features you might need to use other type of NB classifier different than the one in the Master Notebook. Comment on the differences and when using augmentation with feature pattern.  Refer to this [article](https://hub.packtpub.com/implementing-3-naive-bayes-classifiers-in-scikit-learn/).\n",
    "\n",
    "\n",
    "4. Fourth: In the lab, we applied each step really quickly just to illustrate how to work with your dataset. There are somethings that are not ideal or the most efficient/meaningful. Each dataset can be handled differently as well. What are those inefficent parts you noticed? How can you improve the Data preprocessing for these specific datasets? __This part is worth 10% of your grade.__\n",
    "\n",
    "\n",
    "5. Fifth: It's hard for us to follow if your code is messy, so please **tidy up your notebook** and **add minimal comments where needed**. __This part is worth 5% of your grade.__\n",
    "\n",
    "\n",
    "You can submit your homework following these guidelines: [DM2025-Lab1-announcement](https://github.com/leoson-wu/DM2025-Lab1-Announcement/blob/main/README.md). Make sure to commit and save your changes to your repository __BEFORE the deadline (October 19th 11:59 pm, Sunday)__. "
   ]
  },
  {
   "cell_type": "markdown",
   "metadata": {},
   "source": [
    "# Phase 1"
   ]
  },
  {
   "cell_type": "code",
   "execution_count": 125,
   "metadata": {},
   "outputs": [
    {
     "data": {
      "text/html": [
       "<div>\n",
       "<style scoped>\n",
       "    .dataframe tbody tr th:only-of-type {\n",
       "        vertical-align: middle;\n",
       "    }\n",
       "\n",
       "    .dataframe tbody tr th {\n",
       "        vertical-align: top;\n",
       "    }\n",
       "\n",
       "    .dataframe thead th {\n",
       "        text-align: right;\n",
       "    }\n",
       "</style>\n",
       "<table border=\"1\" class=\"dataframe\">\n",
       "  <thead>\n",
       "    <tr style=\"text-align: right;\">\n",
       "      <th></th>\n",
       "      <th>type</th>\n",
       "      <th>datetime</th>\n",
       "      <th>post_id</th>\n",
       "      <th>subreddit</th>\n",
       "      <th>title</th>\n",
       "      <th>author</th>\n",
       "      <th>url</th>\n",
       "      <th>upvotes</th>\n",
       "      <th>downvotes</th>\n",
       "      <th>upvote_ratio</th>\n",
       "      <th>text</th>\n",
       "      <th>subjectivity</th>\n",
       "      <th>polarity</th>\n",
       "      <th>sentiment</th>\n",
       "      <th>entities</th>\n",
       "      <th>label</th>\n",
       "    </tr>\n",
       "  </thead>\n",
       "  <tbody>\n",
       "    <tr>\n",
       "      <th>0</th>\n",
       "      <td>comment</td>\n",
       "      <td>2025-04-11 17:29:56</td>\n",
       "      <td>mmli62w</td>\n",
       "      <td>wallstreetbets</td>\n",
       "      <td>Retardation is on the menu boys! WSB is so back</td>\n",
       "      <td>StickyTip420</td>\n",
       "      <td>https://i.redd.it/0yq2ftren8ue1.jpeg</td>\n",
       "      <td>0</td>\n",
       "      <td>NaN</td>\n",
       "      <td>NaN</td>\n",
       "      <td>Calls on retards</td>\n",
       "      <td>1.000000</td>\n",
       "      <td>-0.900000</td>\n",
       "      <td>-1.0</td>\n",
       "      <td>[]</td>\n",
       "      <td>-1.0</td>\n",
       "    </tr>\n",
       "    <tr>\n",
       "      <th>1</th>\n",
       "      <td>comment</td>\n",
       "      <td>2025-04-12 1:12:19</td>\n",
       "      <td>mmnu7v9</td>\n",
       "      <td>wallstreetbets</td>\n",
       "      <td>Retail giant TARGET has now declined for 10 co...</td>\n",
       "      <td>Comfortable-Dog-8437</td>\n",
       "      <td>https://i.redd.it/7tl6puv9waue1.jpeg</td>\n",
       "      <td>-15</td>\n",
       "      <td>NaN</td>\n",
       "      <td>NaN</td>\n",
       "      <td>Stunt as in like why did they even make a big ...</td>\n",
       "      <td>0.177778</td>\n",
       "      <td>0.083333</td>\n",
       "      <td>1.0</td>\n",
       "      <td>['Stunt', 'company', 'deal', 'place']</td>\n",
       "      <td>0.0</td>\n",
       "    </tr>\n",
       "    <tr>\n",
       "      <th>2</th>\n",
       "      <td>comment</td>\n",
       "      <td>2025-04-10 15:09:41</td>\n",
       "      <td>mmeevio</td>\n",
       "      <td>StockMarket</td>\n",
       "      <td>How do you feel about a sitting president maki...</td>\n",
       "      <td>Btankersly66</td>\n",
       "      <td>https://apnews.com/article/trump-truth-social-...</td>\n",
       "      <td>1</td>\n",
       "      <td>NaN</td>\n",
       "      <td>NaN</td>\n",
       "      <td>Seeing lots of red in the ticker.</td>\n",
       "      <td>0.000000</td>\n",
       "      <td>0.000000</td>\n",
       "      <td>0.0</td>\n",
       "      <td>['ticker']</td>\n",
       "      <td>0.0</td>\n",
       "    </tr>\n",
       "    <tr>\n",
       "      <th>3</th>\n",
       "      <td>post</td>\n",
       "      <td>2023-08-30 17:12:55</td>\n",
       "      <td>165kllm</td>\n",
       "      <td>stockstobuytoday</td>\n",
       "      <td>Who knows more? $VMAR</td>\n",
       "      <td>emiljenfn</td>\n",
       "      <td>https://www.reddit.com/r/stockstobuytoday/comm...</td>\n",
       "      <td>30</td>\n",
       "      <td>0.0</td>\n",
       "      <td>0.98</td>\n",
       "      <td>Vision Marine Technologies Inc. is rewriting t...</td>\n",
       "      <td>0.646970</td>\n",
       "      <td>0.216383</td>\n",
       "      <td>1.0</td>\n",
       "      <td>['watercraft', 'skill', 'power', ']', 'feat', ...</td>\n",
       "      <td>1.0</td>\n",
       "    </tr>\n",
       "    <tr>\n",
       "      <th>4</th>\n",
       "      <td>comment</td>\n",
       "      <td>2025-04-11 14:48:05</td>\n",
       "      <td>mmkl6bw</td>\n",
       "      <td>StockMarket</td>\n",
       "      <td>The Trump administration is begging Xi Jinping...</td>\n",
       "      <td>Just-Big6411</td>\n",
       "      <td>https://edition.cnn.com/2025/04/10/politics/tr...</td>\n",
       "      <td>1</td>\n",
       "      <td>NaN</td>\n",
       "      <td>NaN</td>\n",
       "      <td>He didn’t say thank you.</td>\n",
       "      <td>0.000000</td>\n",
       "      <td>0.000000</td>\n",
       "      <td>0.0</td>\n",
       "      <td>[]</td>\n",
       "      <td>-1.0</td>\n",
       "    </tr>\n",
       "    <tr>\n",
       "      <th>...</th>\n",
       "      <td>...</td>\n",
       "      <td>...</td>\n",
       "      <td>...</td>\n",
       "      <td>...</td>\n",
       "      <td>...</td>\n",
       "      <td>...</td>\n",
       "      <td>...</td>\n",
       "      <td>...</td>\n",
       "      <td>...</td>\n",
       "      <td>...</td>\n",
       "      <td>...</td>\n",
       "      <td>...</td>\n",
       "      <td>...</td>\n",
       "      <td>...</td>\n",
       "      <td>...</td>\n",
       "      <td>...</td>\n",
       "    </tr>\n",
       "    <tr>\n",
       "      <th>842</th>\n",
       "      <td>comment</td>\n",
       "      <td>2021-06-30 4:06:06</td>\n",
       "      <td>h3iv6pq</td>\n",
       "      <td>stockstobuytoday</td>\n",
       "      <td>$MRIN Marin Software killed it today. Hope som...</td>\n",
       "      <td>Ordinary-Office9180</td>\n",
       "      <td>https://www.reddit.com/r/stockstobuytoday/comm...</td>\n",
       "      <td>1</td>\n",
       "      <td>NaN</td>\n",
       "      <td>NaN</td>\n",
       "      <td>Invest now it is going to shoot up tomorrow</td>\n",
       "      <td>0.000000</td>\n",
       "      <td>0.000000</td>\n",
       "      <td>0.0</td>\n",
       "      <td>['tomorrow']</td>\n",
       "      <td>1.0</td>\n",
       "    </tr>\n",
       "    <tr>\n",
       "      <th>843</th>\n",
       "      <td>comment</td>\n",
       "      <td>2025-04-11 5:01:24</td>\n",
       "      <td>mmijiuz</td>\n",
       "      <td>StockMarket</td>\n",
       "      <td>$ U.S. dollar value (crashing)</td>\n",
       "      <td>lulububudu</td>\n",
       "      <td>https://i.redd.it/atvlo83gk4ue1.jpeg</td>\n",
       "      <td>2</td>\n",
       "      <td>NaN</td>\n",
       "      <td>NaN</td>\n",
       "      <td>Where can I read this?</td>\n",
       "      <td>0.000000</td>\n",
       "      <td>0.000000</td>\n",
       "      <td>0.0</td>\n",
       "      <td>[]</td>\n",
       "      <td>0.0</td>\n",
       "    </tr>\n",
       "    <tr>\n",
       "      <th>844</th>\n",
       "      <td>post</td>\n",
       "      <td>2025-03-24 12:30:39</td>\n",
       "      <td>1jipi4v</td>\n",
       "      <td>stockstobuytoday</td>\n",
       "      <td>Analyst Recommendations</td>\n",
       "      <td>saasfin</td>\n",
       "      <td>https://www.reddit.com/r/stockstobuytoday/comm...</td>\n",
       "      <td>1</td>\n",
       "      <td>0.0</td>\n",
       "      <td>1.00</td>\n",
       "      <td>Upgrades, Downgrades\\n\\n [Stock Analyst Recomm...</td>\n",
       "      <td>0.000000</td>\n",
       "      <td>0.000000</td>\n",
       "      <td>0.0</td>\n",
       "      <td>['Analyst', 'Nasdaq', 'Stock', 'Upgrades', 'Do...</td>\n",
       "      <td>0.0</td>\n",
       "    </tr>\n",
       "    <tr>\n",
       "      <th>845</th>\n",
       "      <td>comment</td>\n",
       "      <td>2025-04-11 20:13:26</td>\n",
       "      <td>mmmely7</td>\n",
       "      <td>wallstreetbets</td>\n",
       "      <td>Weekend Discussion Thread for the Weekend of A...</td>\n",
       "      <td>yes_ur_wrong</td>\n",
       "      <td>https://www.reddit.com/r/wallstreetbets/commen...</td>\n",
       "      <td>10</td>\n",
       "      <td>NaN</td>\n",
       "      <td>NaN</td>\n",
       "      <td>i sold my puts so i expect cheeto to declare w...</td>\n",
       "      <td>0.000000</td>\n",
       "      <td>0.000000</td>\n",
       "      <td>0.0</td>\n",
       "      <td>['war', 'denmark', 'cheeto', 'i']</td>\n",
       "      <td>-1.0</td>\n",
       "    </tr>\n",
       "    <tr>\n",
       "      <th>846</th>\n",
       "      <td>comment</td>\n",
       "      <td>2025-04-12 3:09:06</td>\n",
       "      <td>mmobyz1</td>\n",
       "      <td>wallstreetbets</td>\n",
       "      <td>Someone post the hotline please.</td>\n",
       "      <td>I_am_Nerman</td>\n",
       "      <td>https://i.redd.it/tcfuu97p7bue1.jpeg</td>\n",
       "      <td>1</td>\n",
       "      <td>NaN</td>\n",
       "      <td>NaN</td>\n",
       "      <td>![img](emote|t5_2th52|31224)</td>\n",
       "      <td>0.000000</td>\n",
       "      <td>0.000000</td>\n",
       "      <td>0.0</td>\n",
       "      <td>['img', ']', '[', 'emote|t5_2th52|31224']</td>\n",
       "      <td>0.0</td>\n",
       "    </tr>\n",
       "  </tbody>\n",
       "</table>\n",
       "<p>847 rows × 16 columns</p>\n",
       "</div>"
      ],
      "text/plain": [
       "        type             datetime  post_id         subreddit  \\\n",
       "0    comment  2025-04-11 17:29:56  mmli62w    wallstreetbets   \n",
       "1    comment   2025-04-12 1:12:19  mmnu7v9    wallstreetbets   \n",
       "2    comment  2025-04-10 15:09:41  mmeevio       StockMarket   \n",
       "3       post  2023-08-30 17:12:55  165kllm  stockstobuytoday   \n",
       "4    comment  2025-04-11 14:48:05  mmkl6bw       StockMarket   \n",
       "..       ...                  ...      ...               ...   \n",
       "842  comment   2021-06-30 4:06:06  h3iv6pq  stockstobuytoday   \n",
       "843  comment   2025-04-11 5:01:24  mmijiuz       StockMarket   \n",
       "844     post  2025-03-24 12:30:39  1jipi4v  stockstobuytoday   \n",
       "845  comment  2025-04-11 20:13:26  mmmely7    wallstreetbets   \n",
       "846  comment   2025-04-12 3:09:06  mmobyz1    wallstreetbets   \n",
       "\n",
       "                                                 title                author  \\\n",
       "0      Retardation is on the menu boys! WSB is so back          StickyTip420   \n",
       "1    Retail giant TARGET has now declined for 10 co...  Comfortable-Dog-8437   \n",
       "2    How do you feel about a sitting president maki...          Btankersly66   \n",
       "3                                Who knows more? $VMAR             emiljenfn   \n",
       "4    The Trump administration is begging Xi Jinping...          Just-Big6411   \n",
       "..                                                 ...                   ...   \n",
       "842  $MRIN Marin Software killed it today. Hope som...   Ordinary-Office9180   \n",
       "843                     $ U.S. dollar value (crashing)            lulububudu   \n",
       "844                            Analyst Recommendations               saasfin   \n",
       "845  Weekend Discussion Thread for the Weekend of A...          yes_ur_wrong   \n",
       "846                   Someone post the hotline please.           I_am_Nerman   \n",
       "\n",
       "                                                   url  upvotes  downvotes  \\\n",
       "0                 https://i.redd.it/0yq2ftren8ue1.jpeg        0        NaN   \n",
       "1                 https://i.redd.it/7tl6puv9waue1.jpeg      -15        NaN   \n",
       "2    https://apnews.com/article/trump-truth-social-...        1        NaN   \n",
       "3    https://www.reddit.com/r/stockstobuytoday/comm...       30        0.0   \n",
       "4    https://edition.cnn.com/2025/04/10/politics/tr...        1        NaN   \n",
       "..                                                 ...      ...        ...   \n",
       "842  https://www.reddit.com/r/stockstobuytoday/comm...        1        NaN   \n",
       "843               https://i.redd.it/atvlo83gk4ue1.jpeg        2        NaN   \n",
       "844  https://www.reddit.com/r/stockstobuytoday/comm...        1        0.0   \n",
       "845  https://www.reddit.com/r/wallstreetbets/commen...       10        NaN   \n",
       "846               https://i.redd.it/tcfuu97p7bue1.jpeg        1        NaN   \n",
       "\n",
       "     upvote_ratio                                               text  \\\n",
       "0             NaN                                   Calls on retards   \n",
       "1             NaN  Stunt as in like why did they even make a big ...   \n",
       "2             NaN                  Seeing lots of red in the ticker.   \n",
       "3            0.98  Vision Marine Technologies Inc. is rewriting t...   \n",
       "4             NaN                           He didn’t say thank you.   \n",
       "..            ...                                                ...   \n",
       "842           NaN        Invest now it is going to shoot up tomorrow   \n",
       "843           NaN                             Where can I read this?   \n",
       "844          1.00  Upgrades, Downgrades\\n\\n [Stock Analyst Recomm...   \n",
       "845           NaN  i sold my puts so i expect cheeto to declare w...   \n",
       "846           NaN                       ![img](emote|t5_2th52|31224)   \n",
       "\n",
       "     subjectivity  polarity  sentiment  \\\n",
       "0        1.000000 -0.900000       -1.0   \n",
       "1        0.177778  0.083333        1.0   \n",
       "2        0.000000  0.000000        0.0   \n",
       "3        0.646970  0.216383        1.0   \n",
       "4        0.000000  0.000000        0.0   \n",
       "..            ...       ...        ...   \n",
       "842      0.000000  0.000000        0.0   \n",
       "843      0.000000  0.000000        0.0   \n",
       "844      0.000000  0.000000        0.0   \n",
       "845      0.000000  0.000000        0.0   \n",
       "846      0.000000  0.000000        0.0   \n",
       "\n",
       "                                              entities  label  \n",
       "0                                                   []   -1.0  \n",
       "1                ['Stunt', 'company', 'deal', 'place']    0.0  \n",
       "2                                           ['ticker']    0.0  \n",
       "3    ['watercraft', 'skill', 'power', ']', 'feat', ...    1.0  \n",
       "4                                                   []   -1.0  \n",
       "..                                                 ...    ...  \n",
       "842                                       ['tomorrow']    1.0  \n",
       "843                                                 []    0.0  \n",
       "844  ['Analyst', 'Nasdaq', 'Stock', 'Upgrades', 'Do...    0.0  \n",
       "845                  ['war', 'denmark', 'cheeto', 'i']   -1.0  \n",
       "846          ['img', ']', '[', 'emote|t5_2th52|31224']    0.0  \n",
       "\n",
       "[847 rows x 16 columns]"
      ]
     },
     "execution_count": 125,
     "metadata": {},
     "output_type": "execute_result"
    }
   ],
   "source": [
    "### Begin Assignment Here \n",
    "#讀出資料\n",
    "import pandas as pd\n",
    "import numpy as np\n",
    "import matplotlib.pyplot as plt\n",
    "import seaborn as sns\n",
    "import plotly.express as px\n",
    "import random\n",
    "\n",
    "df = pd.read_csv(\"./newdataset/Reddit-stock-sentiment.csv\")\n",
    "df\n"
   ]
  },
  {
   "cell_type": "code",
   "execution_count": 126,
   "metadata": {},
   "outputs": [
    {
     "data": {
      "text/html": [
       "<div>\n",
       "<style scoped>\n",
       "    .dataframe tbody tr th:only-of-type {\n",
       "        vertical-align: middle;\n",
       "    }\n",
       "\n",
       "    .dataframe tbody tr th {\n",
       "        vertical-align: top;\n",
       "    }\n",
       "\n",
       "    .dataframe thead th {\n",
       "        text-align: right;\n",
       "    }\n",
       "</style>\n",
       "<table border=\"1\" class=\"dataframe\">\n",
       "  <thead>\n",
       "    <tr style=\"text-align: right;\">\n",
       "      <th></th>\n",
       "      <th>text</th>\n",
       "      <th>sentiment</th>\n",
       "      <th>label</th>\n",
       "      <th>category</th>\n",
       "      <th>category_name</th>\n",
       "    </tr>\n",
       "  </thead>\n",
       "  <tbody>\n",
       "    <tr>\n",
       "      <th>0</th>\n",
       "      <td>Calls on retards</td>\n",
       "      <td>-1.0</td>\n",
       "      <td>-1.0</td>\n",
       "      <td>-1.0</td>\n",
       "      <td>negative</td>\n",
       "    </tr>\n",
       "    <tr>\n",
       "      <th>1</th>\n",
       "      <td>Stunt as in like why did they even make a big ...</td>\n",
       "      <td>1.0</td>\n",
       "      <td>0.0</td>\n",
       "      <td>0.0</td>\n",
       "      <td>neutral</td>\n",
       "    </tr>\n",
       "    <tr>\n",
       "      <th>2</th>\n",
       "      <td>Seeing lots of red in the ticker.</td>\n",
       "      <td>0.0</td>\n",
       "      <td>0.0</td>\n",
       "      <td>0.0</td>\n",
       "      <td>neutral</td>\n",
       "    </tr>\n",
       "    <tr>\n",
       "      <th>3</th>\n",
       "      <td>Vision Marine Technologies Inc. is rewriting t...</td>\n",
       "      <td>1.0</td>\n",
       "      <td>1.0</td>\n",
       "      <td>1.0</td>\n",
       "      <td>positive</td>\n",
       "    </tr>\n",
       "    <tr>\n",
       "      <th>4</th>\n",
       "      <td>He didn’t say thank you.</td>\n",
       "      <td>0.0</td>\n",
       "      <td>-1.0</td>\n",
       "      <td>-1.0</td>\n",
       "      <td>negative</td>\n",
       "    </tr>\n",
       "  </tbody>\n",
       "</table>\n",
       "</div>"
      ],
      "text/plain": [
       "                                                text  sentiment  label  \\\n",
       "0                                   Calls on retards       -1.0   -1.0   \n",
       "1  Stunt as in like why did they even make a big ...        1.0    0.0   \n",
       "2                  Seeing lots of red in the ticker.        0.0    0.0   \n",
       "3  Vision Marine Technologies Inc. is rewriting t...        1.0    1.0   \n",
       "4                           He didn’t say thank you.        0.0   -1.0   \n",
       "\n",
       "   category category_name  \n",
       "0      -1.0      negative  \n",
       "1       0.0       neutral  \n",
       "2       0.0       neutral  \n",
       "3       1.0      positive  \n",
       "4      -1.0      negative  "
      ]
     },
     "execution_count": 126,
     "metadata": {},
     "output_type": "execute_result"
    }
   ],
   "source": [
    "#挑三個我覺得比較相關的欄位\n",
    "df = df[[\"text\", \"sentiment\", \"label\"]].copy()\n",
    "\n",
    "#加上三種情緒的文字標籤\n",
    "label_map = {1.0: \"positive\", 0.0: \"neutral\", -1.0: \"negative\"}\n",
    "df[\"category\"] = df[\"label\"]\n",
    "df[\"category_name\"] = df[\"label\"].map(label_map)\n",
    "\n",
    "#看前幾筆資料\n",
    "df.head()\n"
   ]
  },
  {
   "cell_type": "code",
   "execution_count": 127,
   "metadata": {},
   "outputs": [
    {
     "name": "stdout",
     "output_type": "stream",
     "text": [
      "Number of records: 847\n",
      "category_name\n",
      "neutral     423\n",
      "negative    315\n",
      "positive    109\n",
      "Name: count, dtype: int64\n",
      "                                                  text  sentiment  label  \\\n",
      "457                                          \"We\" who?        0.0    0.0   \n",
      "342                                     Chicken jockey       -1.0    0.0   \n",
      "280                                      Not great Bob        1.0   -1.0   \n",
      "275  Speak for yourself, my wife is being harder on...        1.0    0.0   \n",
      "843                             Where can I read this?        0.0    0.0   \n",
      "734                       That's a chart since April 6        0.0    0.0   \n",
      "\n",
      "     category category_name  \n",
      "457       0.0       neutral  \n",
      "342       0.0       neutral  \n",
      "280      -1.0      negative  \n",
      "275       0.0       neutral  \n",
      "843       0.0       neutral  \n",
      "734       0.0       neutral  \n"
     ]
    }
   ],
   "source": [
    "#確認總筆數跟上面一樣是847\n",
    "print(\"Number of records:\", len(df))\n",
    "\n",
    "#了解label分布\n",
    "print(df[\"category_name\"].value_counts())\n",
    "\n",
    "#隨機挑幾筆看有沒有問題\n",
    "print(df.sample(6, random_state=42))\n"
   ]
  },
  {
   "cell_type": "code",
   "execution_count": 128,
   "metadata": {},
   "outputs": [
    {
     "name": "stdout",
     "output_type": "stream",
     "text": [
      "text             0\n",
      "sentiment        0\n",
      "label            0\n",
      "category         0\n",
      "category_name    0\n",
      "dtype: int64\n"
     ]
    }
   ],
   "source": [
    "#檢查有無缺漏項目\n",
    "print(df.isnull().sum())\n",
    "\n",
    "#清理缺text的列\n",
    "df = df.dropna(subset=[\"text\"])\n"
   ]
  },
  {
   "cell_type": "code",
   "execution_count": 129,
   "metadata": {},
   "outputs": [
    {
     "name": "stdout",
     "output_type": "stream",
     "text": [
      "Shape of term-document matrix: (847, 4105)\n"
     ]
    }
   ],
   "source": [
    "#把文字資料轉換成數字矩陣,電腦才可理解\n",
    "from sklearn.feature_extraction.text import CountVectorizer\n",
    "\n",
    "count_vect = CountVectorizer(stop_words=\"english\")\n",
    "X_counts = count_vect.fit_transform(df[\"text\"])\n",
    "\n",
    "print(\"Shape of term-document matrix:\", X_counts.shape)\n"
   ]
  },
  {
   "cell_type": "code",
   "execution_count": 130,
   "metadata": {},
   "outputs": [
    {
     "data": {
      "image/png": "[encoded data removed]",
      "text/plain": [
       "<Figure size 1800x800 with 1 Axes>"
      ]
     },
     "metadata": {},
     "output_type": "display_data"
    }
   ],
   "source": [
    "#詞彙出現頻率計算\n",
    "term_frequencies = np.asarray(X_counts.sum(axis=0))[0]\n",
    "\n",
    "#將其排序\n",
    "terms = count_vect.get_feature_names_out()\n",
    "df_terms = pd.DataFrame({\"term\": terms, \"frequency\": term_frequencies})\n",
    "df_terms = df_terms.sort_values(by=\"frequency\", ascending=False)\n",
    "\n",
    "#選\"前30\"常出現的詞彙畫成圖表\n",
    "plt.figure(figsize=(18,8))\n",
    "sns.barplot(x=\"term\", y=\"frequency\", data=df_terms.head(30))\n",
    "plt.xticks(rotation=0)\n",
    "plt.show()\n"
   ]
  },
  {
   "cell_type": "code",
   "execution_count": 131,
   "metadata": {},
   "outputs": [
    {
     "data": {
      "application/vnd.plotly.v1+json": {
       "config": {
        "plotlyServerURL": "https://plot.ly"
       },
       "data": [
        {
         "hovertemplate": "term=%{x}<br>frequency=%{y}<extra></extra>",
         "legendgroup": "",
         "marker": {
          "color": "#636efa",
          "pattern": {
           "shape": ""
          }
         },
         "name": "",
         "orientation": "v",
         "showlegend": false,
         "textposition": "auto",
         "type": "bar",
         "x": [
          "market",
          "just",
          "trump",
          "like",
          "china",
          "think",
          "people",
          "stock",
          "going",
          "good",
          "money",
          "tariffs",
          "make",
          "time",
          "price",
          "want",
          "don",
          "doing",
          "silver",
          "futures",
          "company",
          "right",
          "x200b",
          "years",
          "day",
          "today",
          "economy",
          "world",
          "stocks",
          "did"
         ],
         "xaxis": "x",
         "y": {
          "bdata": "b19cU0g0MzMyLi4nJCQkIyIgHh4dHRwbGxoaGhkZ",
          "dtype": "i1"
         },
         "yaxis": "y"
        }
       ],
       "layout": {
        "barmode": "relative",
        "legend": {
         "tracegroupgap": 0
        },
        "template": {
         "data": {
          "bar": [
           {
            "error_x": {
             "color": "#2a3f5f"
            },
            "error_y": {
             "color": "#2a3f5f"
            },
            "marker": {
             "line": {
              "color": "#E5ECF6",
              "width": 0.5
             },
             "pattern": {
              "fillmode": "overlay",
              "size": 10,
              "solidity": 0.2
             }
            },
            "type": "bar"
           }
          ],
          "barpolar": [
           {
            "marker": {
             "line": {
              "color": "#E5ECF6",
              "width": 0.5
             },
             "pattern": {
              "fillmode": "overlay",
              "size": 10,
              "solidity": 0.2
             }
            },
            "type": "barpolar"
           }
          ],
          "carpet": [
           {
            "aaxis": {
             "endlinecolor": "#2a3f5f",
             "gridcolor": "white",
             "linecolor": "white",
             "minorgridcolor": "white",
             "startlinecolor": "#2a3f5f"
            },
            "baxis": {
             "endlinecolor": "#2a3f5f",
             "gridcolor": "white",
             "linecolor": "white",
             "minorgridcolor": "white",
             "startlinecolor": "#2a3f5f"
            },
            "type": "carpet"
           }
          ],
          "choropleth": [
           {
            "colorbar": {
             "outlinewidth": 0,
             "ticks": ""
            },
            "type": "choropleth"
           }
          ],
          "contour": [
           {
            "colorbar": {
             "outlinewidth": 0,
             "ticks": ""
            },
            "colorscale": [
             [
              0,
              "#0d0887"
             ],
             [
              0.1111111111111111,
              "#46039f"
             ],
             [
              0.2222222222222222,
              "#7201a8"
             ],
             [
              0.3333333333333333,
              "#9c179e"
             ],
             [
              0.4444444444444444,
              "#bd3786"
             ],
             [
              0.5555555555555556,
              "#d8576b"
             ],
             [
              0.6666666666666666,
              "#ed7953"
             ],
             [
              0.7777777777777778,
              "#fb9f3a"
             ],
             [
              0.8888888888888888,
              "#fdca26"
             ],
             [
              1,
              "#f0f921"
             ]
            ],
            "type": "contour"
           }
          ],
          "contourcarpet": [
           {
            "colorbar": {
             "outlinewidth": 0,
             "ticks": ""
            },
            "type": "contourcarpet"
           }
          ],
          "heatmap": [
           {
            "colorbar": {
             "outlinewidth": 0,
             "ticks": ""
            },
            "colorscale": [
             [
              0,
              "#0d0887"
             ],
             [
              0.1111111111111111,
              "#46039f"
             ],
             [
              0.2222222222222222,
              "#7201a8"
             ],
             [
              0.3333333333333333,
              "#9c179e"
             ],
             [
              0.4444444444444444,
              "#bd3786"
             ],
             [
              0.5555555555555556,
              "#d8576b"
             ],
             [
              0.6666666666666666,
              "#ed7953"
             ],
             [
              0.7777777777777778,
              "#fb9f3a"
             ],
             [
              0.8888888888888888,
              "#fdca26"
             ],
             [
              1,
              "#f0f921"
             ]
            ],
            "type": "heatmap"
           }
          ],
          "histogram": [
           {
            "marker": {
             "pattern": {
              "fillmode": "overlay",
              "size": 10,
              "solidity": 0.2
             }
            },
            "type": "histogram"
           }
          ],
          "histogram2d": [
           {
            "colorbar": {
             "outlinewidth": 0,
             "ticks": ""
            },
            "colorscale": [
             [
              0,
              "#0d0887"
             ],
             [
              0.1111111111111111,
              "#46039f"
             ],
             [
              0.2222222222222222,
              "#7201a8"
             ],
             [
              0.3333333333333333,
              "#9c179e"
             ],
             [
              0.4444444444444444,
              "#bd3786"
             ],
             [
              0.5555555555555556,
              "#d8576b"
             ],
             [
              0.6666666666666666,
              "#ed7953"
             ],
             [
              0.7777777777777778,
              "#fb9f3a"
             ],
             [
              0.8888888888888888,
              "#fdca26"
             ],
             [
              1,
              "#f0f921"
             ]
            ],
            "type": "histogram2d"
           }
          ],
          "histogram2dcontour": [
           {
            "colorbar": {
             "outlinewidth": 0,
             "ticks": ""
            },
            "colorscale": [
             [
              0,
              "#0d0887"
             ],
             [
              0.1111111111111111,
              "#46039f"
             ],
             [
              0.2222222222222222,
              "#7201a8"
             ],
             [
              0.3333333333333333,
              "#9c179e"
             ],
             [
              0.4444444444444444,
              "#bd3786"
             ],
             [
              0.5555555555555556,
              "#d8576b"
             ],
             [
              0.6666666666666666,
              "#ed7953"
             ],
             [
              0.7777777777777778,
              "#fb9f3a"
             ],
             [
              0.8888888888888888,
              "#fdca26"
             ],
             [
              1,
              "#f0f921"
             ]
            ],
            "type": "histogram2dcontour"
           }
          ],
          "mesh3d": [
           {
            "colorbar": {
             "outlinewidth": 0,
             "ticks": ""
            },
            "type": "mesh3d"
           }
          ],
          "parcoords": [
           {
            "line": {
             "colorbar": {
              "outlinewidth": 0,
              "ticks": ""
             }
            },
            "type": "parcoords"
           }
          ],
          "pie": [
           {
            "automargin": true,
            "type": "pie"
           }
          ],
          "scatter": [
           {
            "fillpattern": {
             "fillmode": "overlay",
             "size": 10,
             "solidity": 0.2
            },
            "type": "scatter"
           }
          ],
          "scatter3d": [
           {
            "line": {
             "colorbar": {
              "outlinewidth": 0,
              "ticks": ""
             }
            },
            "marker": {
             "colorbar": {
              "outlinewidth": 0,
              "ticks": ""
             }
            },
            "type": "scatter3d"
           }
          ],
          "scattercarpet": [
           {
            "marker": {
             "colorbar": {
              "outlinewidth": 0,
              "ticks": ""
             }
            },
            "type": "scattercarpet"
           }
          ],
          "scattergeo": [
           {
            "marker": {
             "colorbar": {
              "outlinewidth": 0,
              "ticks": ""
             }
            },
            "type": "scattergeo"
           }
          ],
          "scattergl": [
           {
            "marker": {
             "colorbar": {
              "outlinewidth": 0,
              "ticks": ""
             }
            },
            "type": "scattergl"
           }
          ],
          "scattermap": [
           {
            "marker": {
             "colorbar": {
              "outlinewidth": 0,
              "ticks": ""
             }
            },
            "type": "scattermap"
           }
          ],
          "scattermapbox": [
           {
            "marker": {
             "colorbar": {
              "outlinewidth": 0,
              "ticks": ""
             }
            },
            "type": "scattermapbox"
           }
          ],
          "scatterpolar": [
           {
            "marker": {
             "colorbar": {
              "outlinewidth": 0,
              "ticks": ""
             }
            },
            "type": "scatterpolar"
           }
          ],
          "scatterpolargl": [
           {
            "marker": {
             "colorbar": {
              "outlinewidth": 0,
              "ticks": ""
             }
            },
            "type": "scatterpolargl"
           }
          ],
          "scatterternary": [
           {
            "marker": {
             "colorbar": {
              "outlinewidth": 0,
              "ticks": ""
             }
            },
            "type": "scatterternary"
           }
          ],
          "surface": [
           {
            "colorbar": {
             "outlinewidth": 0,
             "ticks": ""
            },
            "colorscale": [
             [
              0,
              "#0d0887"
             ],
             [
              0.1111111111111111,
              "#46039f"
             ],
             [
              0.2222222222222222,
              "#7201a8"
             ],
             [
              0.3333333333333333,
              "#9c179e"
             ],
             [
              0.4444444444444444,
              "#bd3786"
             ],
             [
              0.5555555555555556,
              "#d8576b"
             ],
             [
              0.6666666666666666,
              "#ed7953"
             ],
             [
              0.7777777777777778,
              "#fb9f3a"
             ],
             [
              0.8888888888888888,
              "#fdca26"
             ],
             [
              1,
              "#f0f921"
             ]
            ],
            "type": "surface"
           }
          ],
          "table": [
           {
            "cells": {
             "fill": {
              "color": "#EBF0F8"
             },
             "line": {
              "color": "white"
             }
            },
            "header": {
             "fill": {
              "color": "#C8D4E3"
             },
             "line": {
              "color": "white"
             }
            },
            "type": "table"
           }
          ]
         },
         "layout": {
          "annotationdefaults": {
           "arrowcolor": "#2a3f5f",
           "arrowhead": 0,
           "arrowwidth": 1
          },
          "autotypenumbers": "strict",
          "coloraxis": {
           "colorbar": {
            "outlinewidth": 0,
            "ticks": ""
           }
          },
          "colorscale": {
           "diverging": [
            [
             0,
             "#8e0152"
            ],
            [
             0.1,
             "#c51b7d"
            ],
            [
             0.2,
             "#de77ae"
            ],
            [
             0.3,
             "#f1b6da"
            ],
            [
             0.4,
             "#fde0ef"
            ],
            [
             0.5,
             "#f7f7f7"
            ],
            [
             0.6,
             "#e6f5d0"
            ],
            [
             0.7,
             "#b8e186"
            ],
            [
             0.8,
             "#7fbc41"
            ],
            [
             0.9,
             "#4d9221"
            ],
            [
             1,
             "#276419"
            ]
           ],
           "sequential": [
            [
             0,
             "#0d0887"
            ],
            [
             0.1111111111111111,
             "#46039f"
            ],
            [
             0.2222222222222222,
             "#7201a8"
            ],
            [
             0.3333333333333333,
             "#9c179e"
            ],
            [
             0.4444444444444444,
             "#bd3786"
            ],
            [
             0.5555555555555556,
             "#d8576b"
            ],
            [
             0.6666666666666666,
             "#ed7953"
            ],
            [
             0.7777777777777778,
             "#fb9f3a"
            ],
            [
             0.8888888888888888,
             "#fdca26"
            ],
            [
             1,
             "#f0f921"
            ]
           ],
           "sequentialminus": [
            [
             0,
             "#0d0887"
            ],
            [
             0.1111111111111111,
             "#46039f"
            ],
            [
             0.2222222222222222,
             "#7201a8"
            ],
            [
             0.3333333333333333,
             "#9c179e"
            ],
            [
             0.4444444444444444,
             "#bd3786"
            ],
            [
             0.5555555555555556,
             "#d8576b"
            ],
            [
             0.6666666666666666,
             "#ed7953"
            ],
            [
             0.7777777777777778,
             "#fb9f3a"
            ],
            [
             0.8888888888888888,
             "#fdca26"
            ],
            [
             1,
             "#f0f921"
            ]
           ]
          },
          "colorway": [
           "#636efa",
           "#EF553B",
           "#00cc96",
           "#ab63fa",
           "#FFA15A",
           "#19d3f3",
           "#FF6692",
           "#B6E880",
           "#FF97FF",
           "#FECB52"
          ],
          "font": {
           "color": "#2a3f5f"
          },
          "geo": {
           "bgcolor": "white",
           "lakecolor": "white",
           "landcolor": "#E5ECF6",
           "showlakes": true,
           "showland": true,
           "subunitcolor": "white"
          },
          "hoverlabel": {
           "align": "left"
          },
          "hovermode": "closest",
          "mapbox": {
           "style": "light"
          },
          "paper_bgcolor": "white",
          "plot_bgcolor": "#E5ECF6",
          "polar": {
           "angularaxis": {
            "gridcolor": "white",
            "linecolor": "white",
            "ticks": ""
           },
           "bgcolor": "#E5ECF6",
           "radialaxis": {
            "gridcolor": "white",
            "linecolor": "white",
            "ticks": ""
           }
          },
          "scene": {
           "xaxis": {
            "backgroundcolor": "#E5ECF6",
            "gridcolor": "white",
            "gridwidth": 2,
            "linecolor": "white",
            "showbackground": true,
            "ticks": "",
            "zerolinecolor": "white"
           },
           "yaxis": {
            "backgroundcolor": "#E5ECF6",
            "gridcolor": "white",
            "gridwidth": 2,
            "linecolor": "white",
            "showbackground": true,
            "ticks": "",
            "zerolinecolor": "white"
           },
           "zaxis": {
            "backgroundcolor": "#E5ECF6",
            "gridcolor": "white",
            "gridwidth": 2,
            "linecolor": "white",
            "showbackground": true,
            "ticks": "",
            "zerolinecolor": "white"
           }
          },
          "shapedefaults": {
           "line": {
            "color": "#2a3f5f"
           }
          },
          "ternary": {
           "aaxis": {
            "gridcolor": "white",
            "linecolor": "white",
            "ticks": ""
           },
           "baxis": {
            "gridcolor": "white",
            "linecolor": "white",
            "ticks": ""
           },
           "bgcolor": "#E5ECF6",
           "caxis": {
            "gridcolor": "white",
            "linecolor": "white",
            "ticks": ""
           }
          },
          "title": {
           "x": 0.05
          },
          "xaxis": {
           "automargin": true,
           "gridcolor": "white",
           "linecolor": "white",
           "ticks": "",
           "title": {
            "standoff": 15
           },
           "zerolinecolor": "white",
           "zerolinewidth": 2
          },
          "yaxis": {
           "automargin": true,
           "gridcolor": "white",
           "linecolor": "white",
           "ticks": "",
           "title": {
            "standoff": 15
           },
           "zerolinecolor": "white",
           "zerolinewidth": 2
          }
         }
        },
        "title": {
         "text": "Top 30 Terms"
        },
        "xaxis": {
         "anchor": "y",
         "domain": [
          0,
          1
         ],
         "title": {
          "text": "term"
         }
        },
        "yaxis": {
         "anchor": "x",
         "domain": [
          0,
          1
         ],
         "title": {
          "text": "frequency"
         }
        }
       }
      }
     },
     "metadata": {},
     "output_type": "display_data"
    },
    {
     "data": {
      "application/vnd.plotly.v1+json": {
       "config": {
        "plotlyServerURL": "https://plot.ly"
       },
       "data": [
        {
         "hovertemplate": "term=%{x}<br>frequency_log=%{y}<extra></extra>",
         "legendgroup": "",
         "marker": {
          "color": "#636efa",
          "pattern": {
           "shape": ""
          }
         },
         "name": "",
         "orientation": "v",
         "showlegend": false,
         "textposition": "auto",
         "type": "bar",
         "x": [
          "market",
          "just",
          "trump",
          "like",
          "china",
          "think",
          "people",
          "stock",
          "going",
          "good",
          "money",
          "tariffs",
          "make",
          "time",
          "price",
          "want",
          "don",
          "doing",
          "silver",
          "futures",
          "company",
          "right",
          "x200b",
          "years",
          "day",
          "today",
          "economy",
          "world",
          "stocks",
          "did"
         ],
         "xaxis": "x",
         "y": {
          "bdata": "jbMJK77fEkD4pAd+5EESQHDW88JhIRJA1GX2CSi5EUDmLyIzbikRQKs8Imgoww9ASamuqiWcD0BJqa6qJZwPQP8AUf9gdA9AtvCQLxrNDkC28JAvGs0OQA1yMjvTgg1Avcc67ijjDEC9xzruKOMMQL3HOu4o4wxAAiAq+gurDEDF8w9TWnEMQNG41fTY+AtAWiuRSM54C0BaK5FIzngLQJvWC/mmNQtAm9YL+aY1C0Af/s3LOPAKQCNKltZaqApAI0qW1lqoCkCQhAO4310KQJCEA7jfXQpAkIQDuN9dCkDNGvDqlBAKQM0a8OqUEApA",
          "dtype": "f8"
         },
         "yaxis": "y"
        }
       ],
       "layout": {
        "barmode": "relative",
        "legend": {
         "tracegroupgap": 0
        },
        "template": {
         "data": {
          "bar": [
           {
            "error_x": {
             "color": "#2a3f5f"
            },
            "error_y": {
             "color": "#2a3f5f"
            },
            "marker": {
             "line": {
              "color": "#E5ECF6",
              "width": 0.5
             },
             "pattern": {
              "fillmode": "overlay",
              "size": 10,
              "solidity": 0.2
             }
            },
            "type": "bar"
           }
          ],
          "barpolar": [
           {
            "marker": {
             "line": {
              "color": "#E5ECF6",
              "width": 0.5
             },
             "pattern": {
              "fillmode": "overlay",
              "size": 10,
              "solidity": 0.2
             }
            },
            "type": "barpolar"
           }
          ],
          "carpet": [
           {
            "aaxis": {
             "endlinecolor": "#2a3f5f",
             "gridcolor": "white",
             "linecolor": "white",
             "minorgridcolor": "white",
             "startlinecolor": "#2a3f5f"
            },
            "baxis": {
             "endlinecolor": "#2a3f5f",
             "gridcolor": "white",
             "linecolor": "white",
             "minorgridcolor": "white",
             "startlinecolor": "#2a3f5f"
            },
            "type": "carpet"
           }
          ],
          "choropleth": [
           {
            "colorbar": {
             "outlinewidth": 0,
             "ticks": ""
            },
            "type": "choropleth"
           }
          ],
          "contour": [
           {
            "colorbar": {
             "outlinewidth": 0,
             "ticks": ""
            },
            "colorscale": [
             [
              0,
              "#0d0887"
             ],
             [
              0.1111111111111111,
              "#46039f"
             ],
             [
              0.2222222222222222,
              "#7201a8"
             ],
             [
              0.3333333333333333,
              "#9c179e"
             ],
             [
              0.4444444444444444,
              "#bd3786"
             ],
             [
              0.5555555555555556,
              "#d8576b"
             ],
             [
              0.6666666666666666,
              "#ed7953"
             ],
             [
              0.7777777777777778,
              "#fb9f3a"
             ],
             [
              0.8888888888888888,
              "#fdca26"
             ],
             [
              1,
              "#f0f921"
             ]
            ],
            "type": "contour"
           }
          ],
          "contourcarpet": [
           {
            "colorbar": {
             "outlinewidth": 0,
             "ticks": ""
            },
            "type": "contourcarpet"
           }
          ],
          "heatmap": [
           {
            "colorbar": {
             "outlinewidth": 0,
             "ticks": ""
            },
            "colorscale": [
             [
              0,
              "#0d0887"
             ],
             [
              0.1111111111111111,
              "#46039f"
             ],
             [
              0.2222222222222222,
              "#7201a8"
             ],
             [
              0.3333333333333333,
              "#9c179e"
             ],
             [
              0.4444444444444444,
              "#bd3786"
             ],
             [
              0.5555555555555556,
              "#d8576b"
             ],
             [
              0.6666666666666666,
              "#ed7953"
             ],
             [
              0.7777777777777778,
              "#fb9f3a"
             ],
             [
              0.8888888888888888,
              "#fdca26"
             ],
             [
              1,
              "#f0f921"
             ]
            ],
            "type": "heatmap"
           }
          ],
          "histogram": [
           {
            "marker": {
             "pattern": {
              "fillmode": "overlay",
              "size": 10,
              "solidity": 0.2
             }
            },
            "type": "histogram"
           }
          ],
          "histogram2d": [
           {
            "colorbar": {
             "outlinewidth": 0,
             "ticks": ""
            },
            "colorscale": [
             [
              0,
              "#0d0887"
             ],
             [
              0.1111111111111111,
              "#46039f"
             ],
             [
              0.2222222222222222,
              "#7201a8"
             ],
             [
              0.3333333333333333,
              "#9c179e"
             ],
             [
              0.4444444444444444,
              "#bd3786"
             ],
             [
              0.5555555555555556,
              "#d8576b"
             ],
             [
              0.6666666666666666,
              "#ed7953"
             ],
             [
              0.7777777777777778,
              "#fb9f3a"
             ],
             [
              0.8888888888888888,
              "#fdca26"
             ],
             [
              1,
              "#f0f921"
             ]
            ],
            "type": "histogram2d"
           }
          ],
          "histogram2dcontour": [
           {
            "colorbar": {
             "outlinewidth": 0,
             "ticks": ""
            },
            "colorscale": [
             [
              0,
              "#0d0887"
             ],
             [
              0.1111111111111111,
              "#46039f"
             ],
             [
              0.2222222222222222,
              "#7201a8"
             ],
             [
              0.3333333333333333,
              "#9c179e"
             ],
             [
              0.4444444444444444,
              "#bd3786"
             ],
             [
              0.5555555555555556,
              "#d8576b"
             ],
             [
              0.6666666666666666,
              "#ed7953"
             ],
             [
              0.7777777777777778,
              "#fb9f3a"
             ],
             [
              0.8888888888888888,
              "#fdca26"
             ],
             [
              1,
              "#f0f921"
             ]
            ],
            "type": "histogram2dcontour"
           }
          ],
          "mesh3d": [
           {
            "colorbar": {
             "outlinewidth": 0,
             "ticks": ""
            },
            "type": "mesh3d"
           }
          ],
          "parcoords": [
           {
            "line": {
             "colorbar": {
              "outlinewidth": 0,
              "ticks": ""
             }
            },
            "type": "parcoords"
           }
          ],
          "pie": [
           {
            "automargin": true,
            "type": "pie"
           }
          ],
          "scatter": [
           {
            "fillpattern": {
             "fillmode": "overlay",
             "size": 10,
             "solidity": 0.2
            },
            "type": "scatter"
           }
          ],
          "scatter3d": [
           {
            "line": {
             "colorbar": {
              "outlinewidth": 0,
              "ticks": ""
             }
            },
            "marker": {
             "colorbar": {
              "outlinewidth": 0,
              "ticks": ""
             }
            },
            "type": "scatter3d"
           }
          ],
          "scattercarpet": [
           {
            "marker": {
             "colorbar": {
              "outlinewidth": 0,
              "ticks": ""
             }
            },
            "type": "scattercarpet"
           }
          ],
          "scattergeo": [
           {
            "marker": {
             "colorbar": {
              "outlinewidth": 0,
              "ticks": ""
             }
            },
            "type": "scattergeo"
           }
          ],
          "scattergl": [
           {
            "marker": {
             "colorbar": {
              "outlinewidth": 0,
              "ticks": ""
             }
            },
            "type": "scattergl"
           }
          ],
          "scattermap": [
           {
            "marker": {
             "colorbar": {
              "outlinewidth": 0,
              "ticks": ""
             }
            },
            "type": "scattermap"
           }
          ],
          "scattermapbox": [
           {
            "marker": {
             "colorbar": {
              "outlinewidth": 0,
              "ticks": ""
             }
            },
            "type": "scattermapbox"
           }
          ],
          "scatterpolar": [
           {
            "marker": {
             "colorbar": {
              "outlinewidth": 0,
              "ticks": ""
             }
            },
            "type": "scatterpolar"
           }
          ],
          "scatterpolargl": [
           {
            "marker": {
             "colorbar": {
              "outlinewidth": 0,
              "ticks": ""
             }
            },
            "type": "scatterpolargl"
           }
          ],
          "scatterternary": [
           {
            "marker": {
             "colorbar": {
              "outlinewidth": 0,
              "ticks": ""
             }
            },
            "type": "scatterternary"
           }
          ],
          "surface": [
           {
            "colorbar": {
             "outlinewidth": 0,
             "ticks": ""
            },
            "colorscale": [
             [
              0,
              "#0d0887"
             ],
             [
              0.1111111111111111,
              "#46039f"
             ],
             [
              0.2222222222222222,
              "#7201a8"
             ],
             [
              0.3333333333333333,
              "#9c179e"
             ],
             [
              0.4444444444444444,
              "#bd3786"
             ],
             [
              0.5555555555555556,
              "#d8576b"
             ],
             [
              0.6666666666666666,
              "#ed7953"
             ],
             [
              0.7777777777777778,
              "#fb9f3a"
             ],
             [
              0.8888888888888888,
              "#fdca26"
             ],
             [
              1,
              "#f0f921"
             ]
            ],
            "type": "surface"
           }
          ],
          "table": [
           {
            "cells": {
             "fill": {
              "color": "#EBF0F8"
             },
             "line": {
              "color": "white"
             }
            },
            "header": {
             "fill": {
              "color": "#C8D4E3"
             },
             "line": {
              "color": "white"
             }
            },
            "type": "table"
           }
          ]
         },
         "layout": {
          "annotationdefaults": {
           "arrowcolor": "#2a3f5f",
           "arrowhead": 0,
           "arrowwidth": 1
          },
          "autotypenumbers": "strict",
          "coloraxis": {
           "colorbar": {
            "outlinewidth": 0,
            "ticks": ""
           }
          },
          "colorscale": {
           "diverging": [
            [
             0,
             "#8e0152"
            ],
            [
             0.1,
             "#c51b7d"
            ],
            [
             0.2,
             "#de77ae"
            ],
            [
             0.3,
             "#f1b6da"
            ],
            [
             0.4,
             "#fde0ef"
            ],
            [
             0.5,
             "#f7f7f7"
            ],
            [
             0.6,
             "#e6f5d0"
            ],
            [
             0.7,
             "#b8e186"
            ],
            [
             0.8,
             "#7fbc41"
            ],
            [
             0.9,
             "#4d9221"
            ],
            [
             1,
             "#276419"
            ]
           ],
           "sequential": [
            [
             0,
             "#0d0887"
            ],
            [
             0.1111111111111111,
             "#46039f"
            ],
            [
             0.2222222222222222,
             "#7201a8"
            ],
            [
             0.3333333333333333,
             "#9c179e"
            ],
            [
             0.4444444444444444,
             "#bd3786"
            ],
            [
             0.5555555555555556,
             "#d8576b"
            ],
            [
             0.6666666666666666,
             "#ed7953"
            ],
            [
             0.7777777777777778,
             "#fb9f3a"
            ],
            [
             0.8888888888888888,
             "#fdca26"
            ],
            [
             1,
             "#f0f921"
            ]
           ],
           "sequentialminus": [
            [
             0,
             "#0d0887"
            ],
            [
             0.1111111111111111,
             "#46039f"
            ],
            [
             0.2222222222222222,
             "#7201a8"
            ],
            [
             0.3333333333333333,
             "#9c179e"
            ],
            [
             0.4444444444444444,
             "#bd3786"
            ],
            [
             0.5555555555555556,
             "#d8576b"
            ],
            [
             0.6666666666666666,
             "#ed7953"
            ],
            [
             0.7777777777777778,
             "#fb9f3a"
            ],
            [
             0.8888888888888888,
             "#fdca26"
            ],
            [
             1,
             "#f0f921"
            ]
           ]
          },
          "colorway": [
           "#636efa",
           "#EF553B",
           "#00cc96",
           "#ab63fa",
           "#FFA15A",
           "#19d3f3",
           "#FF6692",
           "#B6E880",
           "#FF97FF",
           "#FECB52"
          ],
          "font": {
           "color": "#2a3f5f"
          },
          "geo": {
           "bgcolor": "white",
           "lakecolor": "white",
           "landcolor": "#E5ECF6",
           "showlakes": true,
           "showland": true,
           "subunitcolor": "white"
          },
          "hoverlabel": {
           "align": "left"
          },
          "hovermode": "closest",
          "mapbox": {
           "style": "light"
          },
          "paper_bgcolor": "white",
          "plot_bgcolor": "#E5ECF6",
          "polar": {
           "angularaxis": {
            "gridcolor": "white",
            "linecolor": "white",
            "ticks": ""
           },
           "bgcolor": "#E5ECF6",
           "radialaxis": {
            "gridcolor": "white",
            "linecolor": "white",
            "ticks": ""
           }
          },
          "scene": {
           "xaxis": {
            "backgroundcolor": "#E5ECF6",
            "gridcolor": "white",
            "gridwidth": 2,
            "linecolor": "white",
            "showbackground": true,
            "ticks": "",
            "zerolinecolor": "white"
           },
           "yaxis": {
            "backgroundcolor": "#E5ECF6",
            "gridcolor": "white",
            "gridwidth": 2,
            "linecolor": "white",
            "showbackground": true,
            "ticks": "",
            "zerolinecolor": "white"
           },
           "zaxis": {
            "backgroundcolor": "#E5ECF6",
            "gridcolor": "white",
            "gridwidth": 2,
            "linecolor": "white",
            "showbackground": true,
            "ticks": "",
            "zerolinecolor": "white"
           }
          },
          "shapedefaults": {
           "line": {
            "color": "#2a3f5f"
           }
          },
          "ternary": {
           "aaxis": {
            "gridcolor": "white",
            "linecolor": "white",
            "ticks": ""
           },
           "baxis": {
            "gridcolor": "white",
            "linecolor": "white",
            "ticks": ""
           },
           "bgcolor": "#E5ECF6",
           "caxis": {
            "gridcolor": "white",
            "linecolor": "white",
            "ticks": ""
           }
          },
          "title": {
           "x": 0.05
          },
          "xaxis": {
           "automargin": true,
           "gridcolor": "white",
           "linecolor": "white",
           "ticks": "",
           "title": {
            "standoff": 15
           },
           "zerolinecolor": "white",
           "zerolinewidth": 2
          },
          "yaxis": {
           "automargin": true,
           "gridcolor": "white",
           "linecolor": "white",
           "ticks": "",
           "title": {
            "standoff": 15
           },
           "zerolinecolor": "white",
           "zerolinewidth": 2
          }
         }
        },
        "title": {
         "text": "Top 30 Terms"
        },
        "xaxis": {
         "anchor": "y",
         "domain": [
          0,
          1
         ],
         "title": {
          "text": "term"
         }
        },
        "yaxis": {
         "anchor": "x",
         "domain": [
          0,
          1
         ],
         "title": {
          "text": "frequency_log"
         }
        }
       }
      }
     },
     "metadata": {},
     "output_type": "display_data"
    }
   ],
   "source": [
    "#用plotly呈現\n",
    "fig = px.bar(df_terms.head(30), x=\"term\", y=\"frequency\", \n",
    "             title=\"Top 30 Terms\")\n",
    "fig.show()\n",
    "\n",
    "#log減少差異\n",
    "import math\n",
    "df_terms[\"frequency_log\"] = df_terms[\"frequency\"].apply(lambda x: math.log(x+1))\n",
    "\n",
    "\n",
    "fig = px.bar(df_terms.head(30), x=\"term\", y=\"frequency_log\",\n",
    "             title=\"Top 30 Terms\")\n",
    "fig.show()\n"
   ]
  },
  {
   "cell_type": "markdown",
   "metadata": {},
   "source": [
    "## 視覺化圖形"
   ]
  },
  {
   "cell_type": "code",
   "execution_count": 132,
   "metadata": {},
   "outputs": [
    {
     "data": {
      "image/png": "[encoded data removed]",
      "text/plain": [
       "<Figure size 600x400 with 1 Axes>"
      ]
     },
     "metadata": {},
     "output_type": "display_data"
    }
   ],
   "source": [
    "#文字長度看來在情緒的辨識上沒有太大的差異\n",
    "\n",
    "#建立文字長度欄位\n",
    "df[\"text_length\"] = df[\"text\"].astype(str).apply(len)\n",
    "\n",
    "plt.figure(figsize=(6,4))\n",
    "sns.boxplot(x=\"category_name\", y=\"text_length\", data=df)\n",
    "plt.title(\"Text Length by Sentiment Category\")\n",
    "plt.xlabel(\"Sentiment\")\n",
    "plt.ylabel(\"Text Length\")\n",
    "\n",
    "#在圖上標註中位數\n",
    "medians = df.groupby(\"category_name\")[\"text_length\"].median()\n",
    "for i, median in enumerate(medians):\n",
    "    plt.text(i, median + 2, f\"Median={int(median)}\", \n",
    "             ha='center', va='bottom', fontsize=9, color=\"red\")\n",
    "\n",
    "plt.show()\n"
   ]
  },
  {
   "cell_type": "code",
   "execution_count": 133,
   "metadata": {},
   "outputs": [
    {
     "data": {
      "image/png": "[encoded data removed]",
      "text/plain": [
       "<Figure size 1500x1000 with 3 Axes>"
      ]
     },
     "metadata": {},
     "output_type": "display_data"
    },
    {
     "data": {
      "image/png": "[encoded data removed]",
      "text/plain": [
       "<Figure size 1500x900 with 3 Axes>"
      ]
     },
     "metadata": {},
     "output_type": "display_data"
    }
   ],
   "source": [
    "#一開始我用文字長度來比較不同情緒的差異，但結果看不出明顯差別。\n",
    "#單純統計字數並不能解釋情緒上的不同，所以我改從詞彙的角度來觀察，把文字斷詞後，\n",
    "#分別挑出正向、中立、負向三種情緒中最常出現的單字和雙詞組合。\n",
    "#這樣能更清楚看出哪些詞跟不同情緒比較有關，也比單純字數的比較更有意義。\n",
    "\n",
    "\n",
    "#確保有category_name\n",
    "label_map = {1.0: \"positive\", 0.0: \"neutral\", -1.0: \"negative\"}\n",
    "if \"category_name\" not in df.columns:\n",
    "    df[\"category\"] = df[\"label\"]\n",
    "    df[\"category_name\"] = df[\"label\"].map(label_map)\n",
    "\n",
    "import re\n",
    "import numpy as np\n",
    "import pandas as pd\n",
    "import matplotlib.pyplot as plt\n",
    "import seaborn as sns\n",
    "from sklearn.feature_extraction.text import CountVectorizer\n",
    "sns.set_style(\"whitegrid\")\n",
    "\n",
    "\n",
    "#抓Top-N單詞或雙詞\n",
    "def top_ngrams_for_class(frame, label_col, label_value, text_col=\"text\",\n",
    "                         ngram_range=(1,1), topn=15):\n",
    "    sub = frame[frame[label_col] == label_value]\n",
    "    vect = CountVectorizer(stop_words=\"english\", ngram_range=ngram_range,\n",
    "                           token_pattern=r\"(?u)\\b[a-zA-Z][a-zA-Z]+\\b\")  # 只保留至少兩個字母的詞\n",
    "    Xc = vect.fit_transform(sub[text_col].astype(str))\n",
    "    freqs = np.asarray(Xc.sum(axis=0)).ravel()\n",
    "    terms = vect.get_feature_names_out()\n",
    "    out = pd.DataFrame({\"term\": terms, \"freq\": freqs}).sort_values(\"freq\", ascending=False).head(topn)\n",
    "    return out\n",
    "\n",
    "#圖Ａ：每個情緒的Top-15單字\n",
    "topn = 15\n",
    "cats = [\"negative\", \"neutral\", \"positive\"]\n",
    "fig, axes = plt.subplots(1, 3, figsize=(15, 10), sharey=True)\n",
    "for ax, c in zip(axes, cats):\n",
    "    top_uni = top_ngrams_for_class(df, \"category_name\", c, ngram_range=(1,1), topn=topn)\n",
    "    ax.barh(top_uni[\"term\"][::-1], top_uni[\"freq\"][::-1])\n",
    "    ax.set_title(f\"Top {topn} Unigrams – {c}\")\n",
    "    ax.set_xlabel(\"Frequency\"); ax.set_ylabel(\"Term\")\n",
    "plt.tight_layout(); plt.show()\n",
    "\n",
    "#圖B：每個情緒的Top-15雙詞(雙詞＝兩個單字組合而成)\n",
    "topn_bi = 12\n",
    "fig, axes = plt.subplots(1, 3, figsize=(15, 9), sharey=True)\n",
    "for ax, c in zip(axes, cats):\n",
    "    top_bi = top_ngrams_for_class(df, \"category_name\", c, ngram_range=(2,2), topn=topn_bi)\n",
    "    ax.barh(top_bi[\"term\"][::-1], top_bi[\"freq\"][::-1])\n",
    "    ax.set_title(f\"Top {topn_bi} Bigrams – {c}\")\n",
    "    ax.set_xlabel(\"Frequency\"); ax.set_ylabel(\"Term\")\n",
    "plt.tight_layout(); plt.show()\n",
    "\n",
    "\n",
    "#這樣就可以清楚地看出三種情緒的各跟哪些語詞有關，幫助我們理解電腦是靠這些詞來判斷情緒的。\n"
   ]
  },
  {
   "cell_type": "markdown",
   "metadata": {},
   "source": [
    "# Phase 2"
   ]
  },
  {
   "cell_type": "code",
   "execution_count": 145,
   "metadata": {},
   "outputs": [
    {
     "name": "stdout",
     "output_type": "stream",
     "text": [
      "[INFO] Libraries imported.\n",
      "[INFO] Data loaded: (847, 3)\n",
      "category_name\n",
      "neutral     423\n",
      "negative    315\n",
      "positive    109\n",
      "Name: count, dtype: int64\n"
     ]
    }
   ],
   "source": [
    "# ---------- 0) Imports & Global Config ----------\n",
    "import re, math, numpy as np, pandas as pd\n",
    "from collections import Counter\n",
    "from itertools import combinations\n",
    "\n",
    "from sklearn.model_selection import train_test_split\n",
    "from sklearn.metrics import classification_report, accuracy_score\n",
    "from sklearn.feature_extraction.text import CountVectorizer, TfidfVectorizer\n",
    "from sklearn.naive_bayes import MultinomialNB, ComplementNB\n",
    "from sklearn.tree import DecisionTreeClassifier\n",
    "from sklearn.preprocessing import KBinsDiscretizer, Binarizer\n",
    "\n",
    "import matplotlib.pyplot as plt\n",
    "import seaborn as sns\n",
    "sns.set_context(\"notebook\")\n",
    "\n",
    "# NLTK 停用詞（環境沒有也不影響執行）\n",
    "try:\n",
    "    import nltk\n",
    "    nltk.download('stopwords', quiet=True)\n",
    "    from nltk.corpus import stopwords\n",
    "    STOPWORDS = set(stopwords.words('english'))\n",
    "except Exception:\n",
    "    STOPWORDS = set()\n",
    "\n",
    "RSEED = 42\n",
    "np.random.seed(RSEED)\n",
    "\n",
    "print(\"[INFO] Libraries imported.\")\n",
    "\n",
    "\n",
    "# ---------- 1) Load Data ----------\n",
    "# 說明：\n",
    "# - 只取 text / label，並建立字串標籤便於觀察\n",
    "DATA_PATH = \"/Users/parinmac/Documents/Assignments/DM2025-Lab1-Exercise/newdataset/Reddit-stock-sentiment.csv\"\n",
    "\n",
    "df = pd.read_csv(DATA_PATH)\n",
    "df = df[['text', 'label']].dropna()\n",
    "label_map = {-1.0:'negative', 0.0:'neutral', 1.0:'positive'}\n",
    "df['category_name'] = df['label'].map(label_map)\n",
    "\n",
    "print(\"[INFO] Data loaded:\", df.shape)\n",
    "print(df['category_name'].value_counts())"
   ]
  },
  {
   "cell_type": "code",
   "execution_count": 135,
   "metadata": {},
   "outputs": [
    {
     "name": "stdout",
     "output_type": "stream",
     "text": [
      "\n",
      "[Baseline] Count + MultinomialNB  Accuracy: 0.5647058823529412\n",
      "              precision    recall  f1-score   support\n",
      "\n",
      "    negative     0.5207    0.6632    0.5833        95\n",
      "     neutral     0.6231    0.6378    0.6304       127\n",
      "    positive     0.0000    0.0000    0.0000        33\n",
      "\n",
      "    accuracy                         0.5647       255\n",
      "   macro avg     0.3812    0.4337    0.4046       255\n",
      "weighted avg     0.5043    0.5647    0.5313       255\n",
      "\n",
      "\n",
      "[Baseline] TF-IDF + ComplementNB Accuracy: 0.49019607843137253\n",
      "              precision    recall  f1-score   support\n",
      "\n",
      "    negative     0.4853    0.6947    0.5714        95\n",
      "     neutral     0.6000    0.4488    0.5135       127\n",
      "    positive     0.0833    0.0606    0.0702        33\n",
      "\n",
      "    accuracy                         0.4902       255\n",
      "   macro avg     0.3895    0.4014    0.3850       255\n",
      "weighted avg     0.4904    0.4902    0.4777       255\n",
      "\n"
     ]
    }
   ],
   "source": [
    "# ---------- 2) Baseline：BoW / TF-IDF + Naive Bayes ----------\n",
    "# 說明：\n",
    "# - 先建立可重現的 baseline\n",
    "# - BoW+MultinomialNB 通常在短文本表現穩定；TF-IDF+ComplementNB 為常見對照\n",
    "\n",
    "train_text, test_text, y_train, y_test = train_test_split(\n",
    "    df['text'].astype(str), df['category_name'],\n",
    "    test_size=0.3, random_state=RSEED, stratify=df['category_name']\n",
    ")\n",
    "\n",
    "# 2.1 CountVectorizer + MultinomialNB\n",
    "bow = CountVectorizer(stop_words='english', token_pattern=r\"(?u)\\b[a-zA-Z][a-zA-Z]+\\b\")\n",
    "Xtr_bow = bow.fit_transform(train_text)\n",
    "Xte_bow = bow.transform(test_text)\n",
    "nb_bow = MultinomialNB().fit(Xtr_bow, y_train)\n",
    "pred_bow = nb_bow.predict(Xte_bow)\n",
    "acc_bow = accuracy_score(y_test, pred_bow)\n",
    "print(\"\\n[Baseline] Count + MultinomialNB  Accuracy:\", acc_bow)\n",
    "print(classification_report(y_test, pred_bow, digits=4))\n",
    "\n",
    "# 2.2 TF-IDF + ComplementNB\n",
    "tfidf = TfidfVectorizer(stop_words='english', token_pattern=r\"(?u)\\b[a-zA-Z][a-zA-Z]+\\b\",\n",
    "                        sublinear_tf=True)\n",
    "Xtr_tfidf = tfidf.fit_transform(train_text)\n",
    "Xte_tfidf = tfidf.transform(test_text)\n",
    "nb_tfidf = ComplementNB().fit(Xtr_tfidf, y_train)\n",
    "pred_tfidf = nb_tfidf.predict(Xte_tfidf)\n",
    "acc_tfidf = accuracy_score(y_test, pred_tfidf)\n",
    "print(\"\\n[Baseline] TF-IDF + ComplementNB Accuracy:\", acc_tfidf)\n",
    "print(classification_report(y_test, pred_tfidf, digits=4))"
   ]
  },
  {
   "cell_type": "code",
   "execution_count": 136,
   "metadata": {},
   "outputs": [
    {
     "name": "stdout",
     "output_type": "stream",
     "text": [
      "\n",
      "[FPM] 有效 transactions：838\n",
      "Frequent patterns were generated successfully using frequentPatternGrowth algorithm\n",
      "[FPM] FP-Growth 長度≥2 的樣式數： 0\n",
      "[FPM] 以本門檻在短文本中未擷取到 pairs（常見情況）。\n"
     ]
    }
   ],
   "source": [
    "# ---------- 3) Frequent Pattern Mining：Plan A（FP-Growth） ----------\n",
    "# 說明：\n",
    "# - 以「每篇文件=交易、單字=items」建 transactions\n",
    "# - Reddit 短文本常見：以一般門檻找不到長度≥2之樣式（低共現）\n",
    "def clean_tokens(text: str):\n",
    "    toks = re.findall(r\"[a-z]{2,}\", str(text).lower())\n",
    "    if STOPWORDS:\n",
    "        toks = [t for t in toks if t not in STOPWORDS]\n",
    "    return toks\n",
    "\n",
    "df['tokens'] = df['text'].astype(str).apply(clean_tokens)\n",
    "transactions = [list(set(toks)) for toks in df['tokens'] if toks]  # 文件級去重\n",
    "print(f\"\\n[FPM] 有效 transactions：{len(transactions)}\")\n",
    "\n",
    "pairs_plus = {}\n",
    "try:\n",
    "    from PAMI.frequentPattern.basic.FPGrowth import FPGrowth\n",
    "    min_support_abs = 2  # 至少出現在 2 篇文件\n",
    "    fp = FPGrowth(transactions, min_support_abs)\n",
    "    fp.mine()\n",
    "    freq_patterns = fp.getPatterns()\n",
    "    pairs_plus = {items: sup for items, sup in freq_patterns.items() if len(items) >= 2}\n",
    "    print(\"[FPM] FP-Growth 長度≥2 的樣式數：\", len(pairs_plus))\n",
    "    if pairs_plus:\n",
    "        top10 = sorted(pairs_plus.items(), key=lambda kv: kv[1], reverse=True)[:10]\n",
    "        print(\"[FPM] Top-10 pairs:\", top10)\n",
    "    else:\n",
    "        print(\"[FPM] 以本門檻在短文本中未擷取到 pairs（常見情況）。\")\n",
    "except Exception as e:\n",
    "    print(\"[FPM] 跳過（環境無 PAMI 或執行失敗）：\", e)"
   ]
  },
  {
   "cell_type": "code",
   "execution_count": 137,
   "metadata": {},
   "outputs": [
    {
     "name": "stdout",
     "output_type": "stream",
     "text": [
      "\n",
      "[PMI] 候選 bigram（DF≥3）數量：143\n",
      "[PMI] Top-10 by DF: [(('stockbuyvest', 'com'), 21), (('emote', 'th'), 12), (('img', 'emote'), 12), (('stock', 'market'), 12), (('bond', 'market'), 7), (('updated', 'weekly'), 7), (('trade', 'war'), 6), (('long', 'term'), 6), (('looks', 'like'), 6), (('btcusd', 'ethusd'), 6)]\n",
      "[PMI] Top-10 by PMI: [(('liz', 'truss'), 3, 8.141255658611042), (('supreme', 'court'), 3, 8.141255658611042), (('pessimism', 'suggest'), 4, 7.726218159332198), (('depends', 'various'), 4, 7.726218159332198), (('various', 'factors'), 4, 7.726218159332198), (('indicates', 'optimism'), 4, 7.726218159332198), (('generally', 'indicates'), 4, 7.726218159332198), (('finra', 'ats'), 4, 7.726218159332198), (('analyst', 'recommendations'), 3, 7.726218159332198), (('upgrades', 'downgrades'), 3, 7.726218159332198)]\n",
      "[PMI] pattern_df 形狀： (847, 100)\n"
     ]
    }
   ],
   "source": [
    "# FP-Growth結果：長度 ≥ 2 的詞組 = 0，沒有找到。\n",
    "# 推測可能原因：Reddit 留言大多很短；同一對詞在不同文章裡一起出現的次數很少，所以達不到門檻。\n",
    "\n",
    "# ---------- 4) Frequent Pattern Mining：Plan B（PMI bigram） ----------\n",
    "# 說明：\n",
    "# - 若 FP-Growth 较難擷取樣式，改以「bigram 的文件頻率 + PMI」挑高關聯詞雙\n",
    "# - 取 Top-K 轉為 0/1 二值樣式，作為「擴增特徵」\n",
    "\n",
    "def to_bigrams(tokens):\n",
    "    return list(zip(tokens, tokens[1:]))\n",
    "\n",
    "doc_bigrams = [set(to_bigrams(toks)) for toks in df[\"tokens\"]]\n",
    "\n",
    "bigram_df_counter = Counter()\n",
    "for s in doc_bigrams:\n",
    "    bigram_df_counter.update(s)\n",
    "\n",
    "MIN_DF = 3  # 2~5 常見；視資料調整\n",
    "candidate_patterns = [(bg, c) for bg, c in bigram_df_counter.items() if c >= MIN_DF]\n",
    "candidate_patterns.sort(key=lambda x: x[1], reverse=True)\n",
    "print(f\"\\n[PMI] 候選 bigram（DF≥{MIN_DF}）數量：{len(candidate_patterns)}\")\n",
    "print(\"[PMI] Top-10 by DF:\", candidate_patterns[:10])\n",
    "\n",
    "N_docs = len(df)\n",
    "unigram_df_counter = Counter()\n",
    "for toks in df[\"tokens\"]:\n",
    "    unigram_df_counter.update(set(toks))\n",
    "\n",
    "def p_word(w):\n",
    "    return unigram_df_counter[w] / N_docs if unigram_df_counter[w] > 0 else 1e-12\n",
    "\n",
    "def p_bigram(bg):\n",
    "    return bigram_df_counter[bg] / N_docs if bigram_df_counter[bg] > 0 else 1e-12\n",
    "\n",
    "def pmi(bg):\n",
    "    (w1, w2) = bg\n",
    "    return math.log2( p_bigram(bg) / (p_word(w1) * p_word(w2)) )\n",
    "\n",
    "scored = []\n",
    "for bg, c in candidate_patterns:\n",
    "    try:\n",
    "        scored.append((bg, c, pmi(bg)))\n",
    "    except ZeroDivisionError:\n",
    "        pass\n",
    "\n",
    "scored_sorted = sorted(scored, key=lambda x: (x[2], x[1]), reverse=True)\n",
    "print(\"[PMI] Top-10 by PMI:\", scored_sorted[:10])\n",
    "\n",
    "K = 100  # 之前的設定；可依需要 50/100/200 調整\n",
    "topK_patterns = [bg for (bg, dfc, pmi_v) in scored_sorted[:K]]\n",
    "pattern_cols = [f\"pat::{a}_{b}\" for (a, b) in topK_patterns]\n",
    "\n",
    "pattern_mat = np.zeros((len(doc_bigrams), len(topK_patterns)), dtype=int)\n",
    "pair_index = {pair: i for i, pair in enumerate(topK_patterns)}\n",
    "for i, s in enumerate(doc_bigrams):\n",
    "    for pair, j in pair_index.items():\n",
    "        if pair in s:\n",
    "            pattern_mat[i, j] = 1\n",
    "\n",
    "pattern_df = pd.DataFrame(pattern_mat, columns=pattern_cols, index=df.index)\n",
    "print(\"[PMI] pattern_df 形狀：\", pattern_df.shape)"
   ]
  },
  {
   "cell_type": "code",
   "execution_count": 138,
   "metadata": {},
   "outputs": [
    {
     "name": "stdout",
     "output_type": "stream",
     "text": [
      "[AUG] aug_tdm_df, aug_tfidf_df： (847, 1592) (847, 1592)\n"
     ]
    }
   ],
   "source": [
    "# ---------- 5) Augment：與 TDM/TF-IDF 合併 ----------\n",
    "count_vect_all = CountVectorizer(min_df=2, stop_words='english')\n",
    "X_tdm_all = count_vect_all.fit_transform(df['text'].astype(str))\n",
    "tdm_df = pd.DataFrame(X_tdm_all.toarray(),\n",
    "                      columns=count_vect_all.get_feature_names_out(), index=df.index)\n",
    "\n",
    "tfidf_vect_all = TfidfVectorizer(min_df=2, stop_words='english', sublinear_tf=True)\n",
    "X_tfidf_all = tfidf_vect_all.fit_transform(df['text'].astype(str))\n",
    "tfidf_df = pd.DataFrame(X_tfidf_all.toarray(),\n",
    "                        columns=tfidf_vect_all.get_feature_names_out(), index=df.index)\n",
    "\n",
    "aug_tdm_df   = pd.concat([tdm_df,   pattern_df], axis=1)\n",
    "aug_tfidf_df = pd.concat([tfidf_df, pattern_df], axis=1)\n",
    "print(\"[AUG] aug_tdm_df, aug_tfidf_df：\", aug_tdm_df.shape, aug_tfidf_df.shape)"
   ]
  },
  {
   "cell_type": "code",
   "execution_count": 139,
   "metadata": {},
   "outputs": [
    {
     "name": "stderr",
     "output_type": "stream",
     "text": [
      "/Users/parinmac/Documents/Assignments/DM2025-Lab1-Exercise/.venv/lib/python3.11/site-packages/umap/umap_.py:1952: UserWarning:\n",
      "\n",
      "n_jobs value 1 overridden to 1 by setting random_state. Use no seed for parallelism.\n",
      "\n"
     ]
    },
    {
     "data": {
      "image/png": "[encoded data removed]",
      "text/plain": [
       "<Figure size 700x500 with 1 Axes>"
      ]
     },
     "metadata": {},
     "output_type": "display_data"
    }
   ],
   "source": [
    "# ---------- 5.5 UMAP降維視覺化----------\n",
    "# 說明：\n",
    "# - 將高維詞袋降到 2D，觀察三類分布\n",
    "# 結果：顏色代表標籤（橘：neutral、藍：negative、綠：positive）。\n",
    "#      看到三色點大範圍重疊，只是一條鬆散的帶狀分布。\n",
    "#      如果 2D 上本來就很難分開，分類器要在原高維空間完全分開機率也不高（除非換表示法/特徵很強）。\n",
    "#      顯示此資料本質不好分。\n",
    "try:\n",
    "    import umap\n",
    "    reducer = umap.UMAP(n_components=2, random_state=RSEED)\n",
    "    X_umap = reducer.fit_transform(X_tdm_all)\n",
    "    df['umap_1'], df['umap_2'] = X_umap[:, 0], X_umap[:, 1]\n",
    "    fig, ax = plt.subplots(figsize=(7,5))\n",
    "    sns.scatterplot(data=df, x='umap_1', y='umap_2', hue='category_name', s=20, ax=ax)\n",
    "    ax.set_title(\"UMAP on CountVectorizer Features\")\n",
    "    plt.show()\n",
    "except Exception as e:\n",
    "    print(\"[UMAP] 跳過（環境無 umap-learn 或執行失敗）：\", e)"
   ]
  },
  {
   "cell_type": "code",
   "execution_count": 140,
   "metadata": {},
   "outputs": [
    {
     "name": "stdout",
     "output_type": "stream",
     "text": [
      "   text_length  text_length_discrete  text_length_binary\n",
      "0           16                   0.0                   0\n",
      "1          137                   0.0                   1\n",
      "2           33                   0.0                   0\n",
      "3         1067                   1.0                   1\n",
      "4           24                   0.0                   0\n"
     ]
    }
   ],
   "source": [
    "# ---------- 5.6 Discretization & Binarization ----------\n",
    "# 說明：\n",
    "# - 將 text_length 做三等分與二值化，示範數值特徵處理\n",
    "df[\"text_length\"] = df[\"text\"].astype(str).apply(len)\n",
    "discretizer = KBinsDiscretizer(n_bins=3, encode='ordinal', strategy='uniform')\n",
    "df['text_length_discrete'] = discretizer.fit_transform(df[['text_length']])\n",
    "median_length = df['text_length'].median()\n",
    "binarizer = Binarizer(threshold=median_length)\n",
    "df['text_length_binary'] = binarizer.fit_transform(df[['text_length']])\n",
    "print(df[['text_length','text_length_discrete','text_length_binary']].head())"
   ]
  },
  {
   "cell_type": "code",
   "execution_count": 141,
   "metadata": {},
   "outputs": [
    {
     "name": "stdout",
     "output_type": "stream",
     "text": [
      "\n",
      "[CLS] MultinomialNB + TDM  Accuracy: 0.5608\n",
      "              precision    recall  f1-score   support\n",
      "\n",
      "        -1.0     0.5391    0.6327    0.5822        98\n",
      "         0.0     0.6111    0.6364    0.6235       121\n",
      "         1.0     0.2857    0.1111    0.1600        36\n",
      "\n",
      "    accuracy                         0.5608       255\n",
      "   macro avg     0.4787    0.4600    0.4552       255\n",
      "weighted avg     0.5375    0.5608    0.5422       255\n",
      "\n",
      "\n",
      "[CLS] ComplementNB + TF-IDF  Accuracy: 0.4902\n",
      "              precision    recall  f1-score   support\n",
      "\n",
      "        -1.0     0.4918    0.6122    0.5455        98\n",
      "         0.0     0.5644    0.4711    0.5135       121\n",
      "         1.0     0.2500    0.2222    0.2353        36\n",
      "\n",
      "    accuracy                         0.4902       255\n",
      "   macro avg     0.4354    0.4352    0.4314       255\n",
      "weighted avg     0.4921    0.4902    0.4865       255\n",
      "\n",
      "\n",
      "[CLS] MultinomialNB + Aug(TDM+PMI)  Accuracy: 0.5412\n",
      "              precision    recall  f1-score   support\n",
      "\n",
      "        -1.0     0.5194    0.6837    0.5903        98\n",
      "         0.0     0.6204    0.5537    0.5852       121\n",
      "         1.0     0.2222    0.1111    0.1481        36\n",
      "\n",
      "    accuracy                         0.5412       255\n",
      "   macro avg     0.4540    0.4495    0.4412       255\n",
      "weighted avg     0.5253    0.5412    0.5254       255\n",
      "\n",
      "\n",
      "[CLS] ComplementNB + Aug(TF-IDF+PMI)  Accuracy: 0.4784\n",
      "              precision    recall  f1-score   support\n",
      "\n",
      "        -1.0     0.4968    0.7857    0.6087        98\n",
      "         0.0     0.6429    0.2975    0.4068       121\n",
      "         1.0     0.2045    0.2500    0.2250        36\n",
      "\n",
      "    accuracy                         0.4784       255\n",
      "   macro avg     0.4481    0.4444    0.4135       255\n",
      "weighted avg     0.5248    0.4784    0.4587       255\n",
      "\n"
     ]
    },
    {
     "name": "stderr",
     "output_type": "stream",
     "text": [
      "/Users/parinmac/Documents/Assignments/DM2025-Lab1-Exercise/.venv/lib/python3.11/site-packages/sklearn/utils/extmath.py:203: RuntimeWarning:\n",
      "\n",
      "divide by zero encountered in matmul\n",
      "\n",
      "/Users/parinmac/Documents/Assignments/DM2025-Lab1-Exercise/.venv/lib/python3.11/site-packages/sklearn/utils/extmath.py:203: RuntimeWarning:\n",
      "\n",
      "overflow encountered in matmul\n",
      "\n",
      "/Users/parinmac/Documents/Assignments/DM2025-Lab1-Exercise/.venv/lib/python3.11/site-packages/sklearn/utils/extmath.py:203: RuntimeWarning:\n",
      "\n",
      "invalid value encountered in matmul\n",
      "\n",
      "/Users/parinmac/Documents/Assignments/DM2025-Lab1-Exercise/.venv/lib/python3.11/site-packages/sklearn/utils/extmath.py:203: RuntimeWarning:\n",
      "\n",
      "divide by zero encountered in matmul\n",
      "\n",
      "/Users/parinmac/Documents/Assignments/DM2025-Lab1-Exercise/.venv/lib/python3.11/site-packages/sklearn/utils/extmath.py:203: RuntimeWarning:\n",
      "\n",
      "overflow encountered in matmul\n",
      "\n",
      "/Users/parinmac/Documents/Assignments/DM2025-Lab1-Exercise/.venv/lib/python3.11/site-packages/sklearn/utils/extmath.py:203: RuntimeWarning:\n",
      "\n",
      "invalid value encountered in matmul\n",
      "\n",
      "/Users/parinmac/Documents/Assignments/DM2025-Lab1-Exercise/.venv/lib/python3.11/site-packages/sklearn/utils/extmath.py:203: RuntimeWarning:\n",
      "\n",
      "divide by zero encountered in matmul\n",
      "\n",
      "/Users/parinmac/Documents/Assignments/DM2025-Lab1-Exercise/.venv/lib/python3.11/site-packages/sklearn/utils/extmath.py:203: RuntimeWarning:\n",
      "\n",
      "overflow encountered in matmul\n",
      "\n",
      "/Users/parinmac/Documents/Assignments/DM2025-Lab1-Exercise/.venv/lib/python3.11/site-packages/sklearn/utils/extmath.py:203: RuntimeWarning:\n",
      "\n",
      "invalid value encountered in matmul\n",
      "\n",
      "/Users/parinmac/Documents/Assignments/DM2025-Lab1-Exercise/.venv/lib/python3.11/site-packages/sklearn/utils/extmath.py:203: RuntimeWarning:\n",
      "\n",
      "divide by zero encountered in matmul\n",
      "\n",
      "/Users/parinmac/Documents/Assignments/DM2025-Lab1-Exercise/.venv/lib/python3.11/site-packages/sklearn/utils/extmath.py:203: RuntimeWarning:\n",
      "\n",
      "overflow encountered in matmul\n",
      "\n",
      "/Users/parinmac/Documents/Assignments/DM2025-Lab1-Exercise/.venv/lib/python3.11/site-packages/sklearn/utils/extmath.py:203: RuntimeWarning:\n",
      "\n",
      "invalid value encountered in matmul\n",
      "\n",
      "/Users/parinmac/Documents/Assignments/DM2025-Lab1-Exercise/.venv/lib/python3.11/site-packages/sklearn/utils/extmath.py:203: RuntimeWarning:\n",
      "\n",
      "divide by zero encountered in matmul\n",
      "\n",
      "/Users/parinmac/Documents/Assignments/DM2025-Lab1-Exercise/.venv/lib/python3.11/site-packages/sklearn/utils/extmath.py:203: RuntimeWarning:\n",
      "\n",
      "overflow encountered in matmul\n",
      "\n",
      "/Users/parinmac/Documents/Assignments/DM2025-Lab1-Exercise/.venv/lib/python3.11/site-packages/sklearn/utils/extmath.py:203: RuntimeWarning:\n",
      "\n",
      "invalid value encountered in matmul\n",
      "\n",
      "/Users/parinmac/Documents/Assignments/DM2025-Lab1-Exercise/.venv/lib/python3.11/site-packages/sklearn/utils/extmath.py:203: RuntimeWarning:\n",
      "\n",
      "divide by zero encountered in matmul\n",
      "\n",
      "/Users/parinmac/Documents/Assignments/DM2025-Lab1-Exercise/.venv/lib/python3.11/site-packages/sklearn/utils/extmath.py:203: RuntimeWarning:\n",
      "\n",
      "overflow encountered in matmul\n",
      "\n",
      "/Users/parinmac/Documents/Assignments/DM2025-Lab1-Exercise/.venv/lib/python3.11/site-packages/sklearn/utils/extmath.py:203: RuntimeWarning:\n",
      "\n",
      "invalid value encountered in matmul\n",
      "\n"
     ]
    }
   ],
   "source": [
    "# ---------- 5.7 Classification：四組對照 ----------\n",
    "# 說明：\n",
    "# - 以「模型×特徵」四組對照，並印出報表\n",
    "y_num = df['label']\n",
    "\n",
    "def eval_nb(X, y, name, use_cnb=False):\n",
    "    Xtr, Xte, ytr, yte = train_test_split(X, y, test_size=0.3, random_state=RSEED)\n",
    "    clf = ComplementNB() if use_cnb else MultinomialNB()\n",
    "    clf.fit(Xtr, ytr)\n",
    "    pred = clf.predict(Xte)\n",
    "    acc = accuracy_score(yte, pred)\n",
    "    print(f\"\\n[CLS] {name}  Accuracy: {acc:.4f}\")\n",
    "    print(classification_report(yte, pred, digits=4))\n",
    "    return acc\n",
    "\n",
    "acc_bow_full   = eval_nb(tdm_df,       y_num, \"MultinomialNB + TDM\")\n",
    "acc_tfidf_full = eval_nb(tfidf_df,     y_num, \"ComplementNB + TF-IDF\", use_cnb=True)\n",
    "acc_aug_tdm    = eval_nb(aug_tdm_df,   y_num, \"MultinomialNB + Aug(TDM+PMI)\")\n",
    "acc_aug_tfidf  = eval_nb(aug_tfidf_df, y_num, \"ComplementNB + Aug(TF-IDF+PMI)\", use_cnb=True)\n"
   ]
  },
  {
   "cell_type": "code",
   "execution_count": 142,
   "metadata": {},
   "outputs": [
    {
     "name": "stdout",
     "output_type": "stream",
     "text": [
      "\n",
      "[CLS] DecisionTree + Aug(TDM) Accuracy: 0.4902\n",
      "              precision    recall  f1-score   support\n",
      "\n",
      "        -1.0     0.4468    0.4286    0.4375        98\n",
      "         0.0     0.5263    0.6612    0.5861       121\n",
      "         1.0     0.3333    0.0833    0.1333        36\n",
      "\n",
      "    accuracy                         0.4902       255\n",
      "   macro avg     0.4355    0.3910    0.3856       255\n",
      "weighted avg     0.4685    0.4902    0.4651       255\n",
      "\n"
     ]
    }
   ],
   "source": [
    "# Decision Tree\n",
    "Xtr, Xte, ytr, yte = train_test_split(aug_tdm_df, y_num, test_size=0.3, random_state=RSEED)\n",
    "dt = DecisionTreeClassifier(random_state=RSEED, min_samples_leaf=2)\n",
    "dt.fit(Xtr, ytr)\n",
    "pred_dt = dt.predict(Xte)\n",
    "acc_dt = accuracy_score(yte, pred_dt)\n",
    "print(\"\\n[CLS] DecisionTree + Aug(TDM) Accuracy:\", round(acc_dt, 4))\n",
    "print(classification_report(yte, pred_dt, digits=4))"
   ]
  },
  {
   "cell_type": "code",
   "execution_count": 143,
   "metadata": {},
   "outputs": [
    {
     "name": "stdout",
     "output_type": "stream",
     "text": [
      "\n",
      "=== Model Comparison (Accuracy) ===\n"
     ]
    },
    {
     "data": {
      "text/html": [
       "<style type=\"text/css\">\n",
       "#T_018ce_row0_col0, #T_018ce_row0_col1, #T_018ce_row1_col0, #T_018ce_row1_col1, #T_018ce_row2_col0, #T_018ce_row2_col1, #T_018ce_row3_col0, #T_018ce_row3_col1, #T_018ce_row4_col0, #T_018ce_row4_col1 {\n",
       "  text-align: center;\n",
       "}\n",
       "</style>\n",
       "<table id=\"T_018ce\">\n",
       "  <thead>\n",
       "    <tr>\n",
       "      <th class=\"blank level0\" >&nbsp;</th>\n",
       "      <th id=\"T_018ce_level0_col0\" class=\"col_heading level0 col0\" >Model</th>\n",
       "      <th id=\"T_018ce_level0_col1\" class=\"col_heading level0 col1\" >Accuracy</th>\n",
       "    </tr>\n",
       "  </thead>\n",
       "  <tbody>\n",
       "    <tr>\n",
       "      <th id=\"T_018ce_level0_row0\" class=\"row_heading level0 row0\" >0</th>\n",
       "      <td id=\"T_018ce_row0_col0\" class=\"data row0 col0\" >MultinomialNB + TDM</td>\n",
       "      <td id=\"T_018ce_row0_col1\" class=\"data row0 col1\" >0.560784</td>\n",
       "    </tr>\n",
       "    <tr>\n",
       "      <th id=\"T_018ce_level0_row1\" class=\"row_heading level0 row1\" >1</th>\n",
       "      <td id=\"T_018ce_row1_col0\" class=\"data row1 col0\" >ComplementNB + TF-IDF</td>\n",
       "      <td id=\"T_018ce_row1_col1\" class=\"data row1 col1\" >0.490196</td>\n",
       "    </tr>\n",
       "    <tr>\n",
       "      <th id=\"T_018ce_level0_row2\" class=\"row_heading level0 row2\" >2</th>\n",
       "      <td id=\"T_018ce_row2_col0\" class=\"data row2 col0\" >MultinomialNB + Aug(TDM+PMI)</td>\n",
       "      <td id=\"T_018ce_row2_col1\" class=\"data row2 col1\" >0.541176</td>\n",
       "    </tr>\n",
       "    <tr>\n",
       "      <th id=\"T_018ce_level0_row3\" class=\"row_heading level0 row3\" >3</th>\n",
       "      <td id=\"T_018ce_row3_col0\" class=\"data row3 col0\" >ComplementNB + Aug(TF-IDF+PMI)</td>\n",
       "      <td id=\"T_018ce_row3_col1\" class=\"data row3 col1\" >0.478431</td>\n",
       "    </tr>\n",
       "    <tr>\n",
       "      <th id=\"T_018ce_level0_row4\" class=\"row_heading level0 row4\" >4</th>\n",
       "      <td id=\"T_018ce_row4_col0\" class=\"data row4 col0\" >DecisionTree + Aug(TDM)</td>\n",
       "      <td id=\"T_018ce_row4_col1\" class=\"data row4 col1\" >0.490196</td>\n",
       "    </tr>\n",
       "  </tbody>\n",
       "</table>\n"
      ],
      "text/plain": [
       "<pandas.io.formats.style.Styler at 0x1002fced0>"
      ]
     },
     "metadata": {},
     "output_type": "display_data"
    }
   ],
   "source": [
    "# 成績總表\n",
    "summary = pd.DataFrame([\n",
    "    [\"MultinomialNB + TDM\",              acc_bow_full],\n",
    "    [\"ComplementNB + TF-IDF\",            acc_tfidf_full],\n",
    "    [\"MultinomialNB + Aug(TDM+PMI)\",     acc_aug_tdm],\n",
    "    [\"ComplementNB + Aug(TF-IDF+PMI)\",   acc_aug_tfidf],\n",
    "    [\"DecisionTree + Aug(TDM)\",          acc_dt],\n",
    "], columns=[\"Model\", \"Accuracy\"])\n",
    "\n",
    "# 漂亮表格顯示\n",
    "print(\"\\n=== Model Comparison (Accuracy) ===\")\n",
    "display(summary.style.set_properties(**{'text-align': 'center'}))"
   ]
  },
  {
   "cell_type": "code",
   "execution_count": 144,
   "metadata": {},
   "outputs": [
    {
     "name": "stdout",
     "output_type": "stream",
     "text": [
      "[Per-Class Bigram DF] positive: [(('long', 'term'), 3), (('cutting', 'edge'), 2), (('making', 'waves'), 2), (('main', 'points'), 2), (('redditors', 'bad'), 2)]\n",
      "[Per-Class Bigram DF] neutral: [(('stockbuyvest', 'com'), 20), (('emote', 'th'), 8), (('img', 'emote'), 8), (('stock', 'market'), 8), (('updated', 'weekly'), 7)]\n",
      "[Per-Class Bigram DF] negative: [(('trade', 'war'), 6), (('seems', 'like'), 4), (('stock', 'market'), 4), (('american', 'people'), 4), (('insider', 'trading'), 4)]\n",
      "\n",
      "[DONE] Phase 2 pipeline finished.\n"
     ]
    }
   ],
   "source": [
    "# ---------- 6) 每類別的 bigram（文件頻率 Top-5） ----------\n",
    "cats = ['positive', 'neutral', 'negative']\n",
    "def to_bigrams(tokens):\n",
    "    return list(zip(tokens, tokens[1:]))\n",
    "\n",
    "for cat in cats:\n",
    "    sub = df[df['category_name'] == cat]\n",
    "    sub_pairs = Counter()\n",
    "    for toks in sub['tokens']:\n",
    "        sub_pairs.update(set(to_bigrams(toks)))\n",
    "    top5 = sub_pairs.most_common(5)\n",
    "    print(f\"[Per-Class Bigram DF] {cat}: {top5}\")\n",
    "\n",
    "print(\"\\n[DONE] Phase 2 pipeline finished.\")"
   ]
  },
  {
   "cell_type": "markdown",
   "metadata": {},
   "source": [
    "| 模型名稱                               |  Accuracy | 解釋                                                                                   |\n",
    "| ---------------------------------- | -------------- | ----------------------------------------------------------------------------------------- |\n",
    "| **MultinomialNB + TDM**            | **0.5608**     | 用最簡單的詞頻統計（每個詞出現幾次）去分類，表現最好。這是 \n",
    "| **ComplementNB + TF-IDF**          | 0.4902         | 加入 TF-IDF 權重後反而下降，因為 Reddit 短文本常只有 1–3 個字詞，TF-IDF 會把常見詞壓太低，使模型看不到有效訊號。                  |\n",
    "| **MultinomialNB + Aug(TDM+PMI)**   | 0.5412         | 將 FP-Growth 改成 PMI bigram 的結果接到BoW後，準確率略降。可能原因是 PMI 抓到的詞組多為主題詞（如 “supreme court”）而非情緒詞。 |\n",
    "| **ComplementNB + Aug(TF-IDF+PMI)** | 0.4784         | 同樣加入 PMI 特徵但用 TF-IDF 權重，效果最低，代表稀疏特徵太多反而造成干擾。                                              |\n",
    "| **DecisionTree + Aug(TDM)**        | 0.4902         | 決策樹對高維稀疏的文字向量容易過擬合，所以準確率與 TF-IDF 模型差不多。                             |\n"
   ]
  },
  {
   "cell_type": "markdown",
   "metadata": {},
   "source": [
    "---\n",
    "\n",
    "### 🧩 Phase 2 Summary & Discussion\n",
    "\n",
    "- **Best Model:** MultinomialNB + TDM (Accuracy ≈ 0.56)  \n",
    "  → 在短文字任務中，詞頻統計比 TF-IDF 更能捕捉主要訊號。  \n",
    "- **FP-Growth** 無產生有效結果，因短文本共現稀少，轉而使用 PMI bigram。  \n",
    "- **Augmented (PMI)** 特徵對模型準確度提升有限，但提供語意搭配潛力。  \n",
    "- **Decision Tree** 容易在高維稀疏資料過擬合，因此表現與 TF-IDF 類似。  \n",
    "\n",
    "**Observations**  \n",
    "1. TF-IDF 不一定優於 BoW；在短文本中詞頻統計保留更多字詞訊息。  \n",
    "2. Augmented (PMI) 仍具潛力，可結合 Word2Vec 或 contextual embedding 改善。  \n",
    "3. 模型平衡建議：採用 Logistic Regression 或 Linear SVC 可更穩定。  \n",
    "4. 衡量方式除 accuracy 外，建議加列 macro-F1 避免多數類偏誤。  \n",
    "5. 改進方向：正規化 ticker/emoji/URL、上採樣 class imbalance、試 n-gram 拓展。  \n",
    "\n",
    "---\n"
   ]
  }
 ],
 "metadata": {
  "kernelspec": {
   "display_name": "DM2025-Lab1-Exercise",
   "language": "python",
   "name": "python3"
  },
  "language_info": {
   "codemirror_mode": {
    "name": "ipython",
    "version": 3
   },
   "file_extension": ".py",
   "mimetype": "text/x-python",
   "name": "python",
   "nbconvert_exporter": "python",
   "pygments_lexer": "ipython3",
   "version": "3.11.0"
  }
 },
 "nbformat": 4,
 "nbformat_minor": 4
}
